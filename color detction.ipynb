{
 "cells": [
  {
   "cell_type": "code",
   "execution_count": 1,
   "metadata": {},
   "outputs": [
    {
     "data": {
      "text/plain": [
       "False"
      ]
     },
     "execution_count": 1,
     "metadata": {},
     "output_type": "execute_result"
    }
   ],
   "source": [
    "#import important libraries\n",
    "import numpy as np \n",
    "import cv2\n",
    "#set webcam fram options\n",
    "frameWidth = 640\n",
    "frameHeight = 480\n",
    "cap = cv2.VideoCapture(0)\n",
    "cap.set(3, frameWidth)\n",
    "cap.set(4, frameHeight)\n",
    "cap.set(10,150)"
   ]
  },
  {
   "cell_type": "code",
   "execution_count": null,
   "metadata": {},
   "outputs": [
    {
     "name": "stdout",
     "output_type": "stream",
     "text": [
      "0 19 110 240 153 255\n",
      "0 19 110 240 153 255\n",
      "0 19 110 240 153 255\n",
      "0 19 110 240 153 255\n",
      "0 19 110 240 153 255\n",
      "0 19 110 240 153 255\n",
      "0 19 110 240 153 255\n",
      "0 19 110 240 153 255\n",
      "0 19 110 240 153 255\n",
      "0 19 110 240 153 255\n",
      "0 19 110 240 153 255\n",
      "0 19 110 240 153 255\n",
      "0 19 110 240 153 255\n",
      "0 19 110 240 153 255\n",
      "0 19 110 240 153 255\n",
      "0 19 110 240 153 255\n",
      "0 19 110 240 153 255\n",
      "0 19 110 240 153 255\n",
      "0 19 110 240 153 255\n",
      "0 19 110 240 153 255\n",
      "0 19 110 240 153 255\n",
      "0 19 110 240 153 255\n",
      "0 19 110 240 153 255\n",
      "0 19 110 240 153 255\n",
      "0 19 110 240 153 255\n",
      "0 19 110 240 153 255\n",
      "0 19 110 240 153 255\n",
      "0 19 110 240 153 255\n",
      "0 19 110 240 153 255\n",
      "0 19 110 240 153 255\n",
      "0 19 110 240 153 255\n",
      "0 19 110 240 153 255\n",
      "0 19 110 240 153 255\n",
      "0 19 110 240 153 255\n",
      "0 19 110 240 153 255\n",
      "0 19 110 240 153 255\n",
      "0 19 110 240 153 255\n",
      "0 19 110 240 153 255\n",
      "0 19 110 240 153 255\n",
      "0 19 110 240 153 255\n",
      "0 19 110 240 153 255\n",
      "0 19 110 240 153 255\n",
      "0 19 110 240 153 255\n",
      "0 19 110 240 153 255\n",
      "0 19 110 240 153 255\n",
      "0 19 110 240 153 255\n",
      "0 19 110 240 153 255\n",
      "0 19 110 240 153 255\n",
      "0 19 110 240 153 255\n",
      "0 19 110 240 153 255\n",
      "0 19 110 240 153 255\n",
      "0 19 110 240 153 255\n",
      "0 19 110 240 153 255\n",
      "0 19 110 240 153 255\n",
      "0 19 110 240 153 255\n",
      "0 19 110 240 153 255\n",
      "0 19 110 240 153 255\n",
      "0 19 110 240 153 255\n",
      "0 19 110 240 153 255\n",
      "0 19 110 240 153 255\n",
      "0 19 110 240 153 255\n",
      "0 19 110 240 153 255\n",
      "0 19 110 240 153 255\n",
      "0 19 110 240 153 255\n",
      "0 19 110 240 153 255\n",
      "0 19 110 240 153 255\n",
      "0 19 110 240 153 255\n",
      "0 19 110 240 153 255\n",
      "0 19 110 240 153 255\n",
      "0 19 110 240 153 255\n",
      "0 19 110 240 153 255\n",
      "0 19 110 240 153 255\n",
      "0 19 110 240 153 255\n",
      "0 19 110 240 153 255\n",
      "0 19 110 240 153 255\n",
      "0 19 110 240 153 255\n",
      "0 19 110 240 153 255\n",
      "0 19 110 240 153 255\n",
      "0 19 110 240 153 255\n",
      "0 19 110 240 153 255\n",
      "0 19 110 240 153 255\n",
      "0 19 110 240 153 255\n",
      "0 19 110 240 153 255\n",
      "0 19 110 240 153 255\n",
      "0 19 110 240 153 255\n",
      "0 19 110 240 153 255\n",
      "0 19 110 240 153 255\n",
      "0 19 110 240 153 255\n",
      "0 19 110 240 153 255\n",
      "0 19 110 240 153 255\n",
      "0 19 110 240 153 255\n",
      "0 19 110 240 153 255\n",
      "0 19 110 240 153 255\n",
      "0 19 110 240 153 255\n",
      "0 19 110 240 153 255\n",
      "0 19 110 240 153 255\n",
      "0 19 110 240 153 255\n",
      "0 19 110 240 153 255\n",
      "0 19 110 240 153 255\n",
      "0 19 110 240 153 255\n",
      "0 19 110 240 153 255\n",
      "0 19 110 240 153 255\n",
      "0 19 110 240 153 255\n",
      "0 19 110 240 153 255\n",
      "0 19 110 240 153 255\n",
      "0 19 110 240 153 255\n",
      "0 19 110 240 153 255\n",
      "0 19 110 240 153 255\n",
      "0 19 110 240 153 255\n",
      "0 19 110 240 153 255\n",
      "0 19 110 240 153 255\n",
      "0 19 110 240 153 255\n",
      "0 19 110 240 153 255\n",
      "0 19 110 240 153 255\n",
      "0 19 110 240 153 255\n",
      "0 19 110 240 153 255\n",
      "0 19 110 240 153 255\n",
      "0 19 110 240 153 255\n",
      "0 19 110 240 153 255\n",
      "0 19 110 240 153 255\n",
      "0 19 110 240 153 255\n",
      "0 19 110 240 153 255\n",
      "0 19 110 240 153 255\n",
      "0 19 110 240 153 255\n",
      "0 19 110 240 153 255\n",
      "0 19 110 240 153 255\n",
      "0 19 110 240 153 255\n",
      "0 19 110 240 153 255\n",
      "0 19 110 240 153 255\n",
      "0 19 110 240 153 255\n",
      "0 19 110 240 153 255\n",
      "0 19 110 240 153 255\n",
      "0 19 110 240 153 255\n",
      "0 19 110 240 153 255\n",
      "0 19 110 240 153 255\n",
      "0 19 110 240 153 255\n",
      "0 19 110 240 153 255\n",
      "0 19 110 240 153 255\n",
      "0 19 110 240 153 255\n",
      "0 19 110 240 153 255\n",
      "0 19 110 240 153 255\n",
      "0 19 110 240 153 255\n",
      "0 19 110 240 153 255\n",
      "0 19 110 240 153 255\n",
      "0 19 110 240 153 255\n",
      "0 19 110 240 153 255\n",
      "0 19 110 240 153 255\n",
      "0 19 110 240 153 255\n",
      "0 19 110 240 153 255\n",
      "0 19 110 240 153 255\n",
      "0 19 110 240 153 255\n",
      "0 19 110 240 153 255\n",
      "0 19 110 240 153 255\n",
      "0 19 110 240 153 255\n",
      "0 19 110 240 153 255\n",
      "0 19 110 240 153 255\n",
      "0 19 110 240 153 255\n",
      "0 19 110 240 153 255\n",
      "0 19 110 240 153 255\n",
      "0 19 110 240 153 255\n",
      "0 19 110 240 153 255\n",
      "0 19 110 240 153 255\n",
      "0 19 110 240 153 255\n",
      "0 19 110 240 153 255\n",
      "0 19 110 240 153 255\n",
      "0 19 110 240 153 255\n",
      "0 19 110 240 153 255\n",
      "0 19 110 240 153 255\n",
      "0 19 110 240 153 255\n",
      "0 19 110 240 153 255\n",
      "0 19 110 240 153 255\n",
      "0 19 110 240 153 255\n",
      "0 19 110 240 153 255\n",
      "0 19 110 240 153 255\n",
      "0 19 110 240 153 255\n",
      "0 19 110 240 153 255\n",
      "0 19 110 240 153 255\n",
      "0 19 110 240 153 255\n",
      "0 19 110 240 153 255\n",
      "0 19 110 240 153 255\n",
      "0 19 110 240 153 255\n",
      "0 19 110 240 153 255\n",
      "0 19 110 240 153 255\n",
      "0 19 110 240 153 255\n",
      "0 19 110 240 153 255\n",
      "0 19 110 240 153 255\n",
      "0 19 110 240 153 255\n",
      "0 19 110 240 153 255\n",
      "0 19 110 240 153 255\n",
      "0 19 110 240 153 255\n",
      "0 19 110 240 153 255\n",
      "0 19 110 240 153 255\n",
      "0 19 110 240 153 255\n",
      "0 19 110 240 153 255\n",
      "0 19 110 240 153 255\n",
      "0 19 110 240 153 255\n",
      "0 19 110 240 153 255\n",
      "0 19 110 240 153 255\n",
      "0 19 110 240 153 255\n",
      "0 19 110 240 153 255\n",
      "0 19 110 240 153 255\n",
      "0 19 110 240 153 255\n",
      "0 19 110 240 153 255\n",
      "0 19 110 240 153 255\n",
      "0 19 110 240 153 255\n",
      "0 19 110 240 153 255\n",
      "0 19 110 240 153 255\n",
      "0 19 110 240 153 255\n",
      "0 19 110 240 153 255\n",
      "0 19 110 240 153 255\n",
      "0 19 110 240 153 255\n",
      "0 19 110 240 153 255\n",
      "0 19 110 240 153 255\n",
      "0 19 110 240 153 255\n",
      "0 19 110 240 153 255\n",
      "0 19 110 240 153 255\n",
      "0 19 110 240 153 255\n",
      "0 19 110 240 153 255\n",
      "0 19 110 240 153 255\n",
      "0 19 110 240 153 255\n",
      "0 19 110 240 153 255\n",
      "0 19 110 240 153 255\n",
      "0 19 110 240 153 255\n",
      "0 19 110 240 153 255\n",
      "0 19 110 240 153 255\n",
      "0 19 110 240 153 255\n",
      "0 19 110 240 153 255\n",
      "0 19 110 240 153 255\n",
      "0 19 110 240 153 255\n",
      "0 19 110 240 153 255\n",
      "0 19 110 240 153 255\n",
      "0 19 110 240 153 255\n",
      "0 19 110 240 153 255\n",
      "0 19 110 240 153 255\n",
      "0 19 110 240 153 255\n",
      "0 19 110 240 153 255\n",
      "0 19 110 240 153 255\n",
      "0 19 110 240 153 255\n",
      "0 19 110 240 153 255\n",
      "0 19 110 240 153 255\n",
      "0 19 110 240 153 255\n",
      "0 19 110 240 153 255\n",
      "0 19 110 240 153 255\n",
      "0 19 110 240 153 255\n",
      "0 19 110 240 153 255\n",
      "0 19 110 240 153 255\n",
      "0 19 110 240 153 255\n",
      "0 19 110 240 153 255\n",
      "0 19 110 240 153 255\n",
      "0 19 110 240 153 255\n",
      "0 19 110 240 153 255\n",
      "0 19 110 240 153 255\n",
      "0 19 110 240 153 255\n",
      "0 19 110 240 153 255\n",
      "0 19 110 240 153 255\n",
      "0 19 110 240 153 255\n",
      "0 19 110 240 153 255\n",
      "0 19 110 240 153 255\n",
      "0 19 110 240 153 255\n",
      "0 19 110 240 153 255\n",
      "0 19 110 240 153 255\n",
      "0 19 110 240 153 255\n",
      "0 19 110 240 153 255\n",
      "0 19 110 240 153 255\n",
      "0 19 110 240 153 255\n",
      "0 19 110 240 153 255\n",
      "0 19 110 240 153 255\n",
      "0 19 110 240 153 255\n",
      "0 19 110 240 153 255\n",
      "0 19 110 240 153 255\n",
      "0 19 110 240 153 255\n",
      "0 19 110 240 153 255\n",
      "0 19 110 240 153 255\n",
      "0 19 110 240 153 255\n",
      "0 19 110 240 153 255\n",
      "0 19 110 240 153 255\n",
      "0 19 110 240 153 255\n",
      "0 19 110 240 153 255\n",
      "0 19 110 240 153 255\n",
      "0 19 110 240 153 255\n",
      "0 19 110 240 153 255\n",
      "0 19 110 240 153 255\n",
      "0 19 110 240 153 255\n",
      "0 19 110 240 153 255\n",
      "0 19 110 240 153 255\n",
      "0 19 110 240 153 255\n",
      "0 19 110 240 153 255\n",
      "0 19 110 240 153 255\n",
      "0 19 110 240 153 255\n",
      "0 19 110 240 153 255\n",
      "0 19 110 240 153 255\n",
      "0 19 110 240 153 255\n",
      "0 19 110 240 153 255\n",
      "0 19 110 240 153 255\n",
      "0 19 110 240 153 255\n",
      "0 19 110 240 153 255\n",
      "0 19 110 240 153 255\n",
      "0 19 110 240 153 255\n",
      "0 19 110 240 153 255\n",
      "0 19 110 240 153 255\n",
      "0 19 110 240 153 255\n",
      "0 19 110 240 153 255\n",
      "0 19 110 240 153 255\n",
      "0 19 110 240 153 255\n",
      "0 19 110 240 153 255\n",
      "0 19 110 240 153 255\n",
      "0 19 110 240 153 255\n",
      "0 19 110 240 153 255\n",
      "0 19 110 240 153 255\n",
      "0 19 110 240 153 255\n",
      "0 19 110 240 153 255\n",
      "0 19 110 240 153 255\n",
      "0 19 110 240 153 255\n",
      "0 19 110 240 153 255\n",
      "0 19 110 240 153 255\n",
      "0 19 110 240 153 255\n",
      "0 19 110 240 153 255\n",
      "0 19 110 240 153 255\n",
      "0 19 110 240 153 255\n",
      "0 19 110 240 153 255\n",
      "0 19 110 240 153 255\n",
      "0 19 110 240 153 255\n",
      "0 19 110 240 153 255\n",
      "0 19 110 240 153 255\n",
      "0 19 110 240 153 255\n",
      "0 19 110 240 153 255\n",
      "0 19 110 240 153 255\n",
      "0 19 110 240 153 255\n",
      "0 19 110 240 153 255\n",
      "0 19 110 240 153 255\n",
      "0 19 110 240 153 255\n",
      "0 19 110 240 153 255\n",
      "0 19 110 240 153 255\n",
      "0 19 110 240 153 255\n",
      "0 19 110 240 153 255\n",
      "0 19 110 240 153 255\n",
      "0 19 110 240 153 255\n",
      "0 19 110 240 153 255\n",
      "0 19 110 240 153 255\n",
      "0 19 110 240 153 255\n",
      "0 19 110 240 153 255\n",
      "0 19 110 240 153 255\n",
      "0 19 110 240 153 255\n",
      "0 19 110 240 153 255\n",
      "0 19 110 240 153 255\n",
      "0 19 110 240 153 255\n",
      "0 19 110 240 153 255\n",
      "0 19 110 240 153 255\n",
      "0 19 110 240 153 255\n",
      "0 19 110 240 153 255\n",
      "0 19 110 240 153 255\n",
      "0 19 110 240 153 255\n",
      "0 19 110 240 153 255\n",
      "0 19 110 240 153 255\n",
      "0 19 110 240 153 255\n",
      "0 19 110 240 153 255\n",
      "0 19 110 240 153 255\n",
      "0 19 110 240 153 255\n",
      "0 19 110 240 153 255\n",
      "0 19 110 240 153 255\n",
      "0 19 110 240 153 255\n",
      "0 19 110 240 153 255\n",
      "0 19 110 240 153 255\n",
      "0 19 110 240 153 255\n",
      "0 19 110 240 153 255\n",
      "0 19 110 240 153 255\n",
      "0 19 110 240 153 255\n",
      "0 19 110 240 153 255\n",
      "0 19 110 240 153 255\n",
      "0 19 110 240 153 255\n",
      "0 19 110 240 153 255\n",
      "0 19 110 240 153 255\n",
      "0 19 110 240 153 255\n",
      "0 19 110 240 153 255\n",
      "0 19 110 240 153 255\n",
      "0 19 110 240 153 255\n",
      "0 19 110 240 153 255\n",
      "0 19 110 240 153 255\n",
      "0 19 110 240 153 255\n",
      "0 19 110 240 153 255\n",
      "0 19 110 240 153 255\n",
      "0 19 110 240 153 255\n",
      "0 19 110 240 153 255\n",
      "0 19 110 240 153 255\n",
      "0 19 110 240 153 255\n",
      "0 19 110 240 153 255\n",
      "0 19 110 240 153 255\n",
      "0 19 110 240 153 255\n",
      "0 19 110 240 153 255\n",
      "0 19 110 240 153 255\n"
     ]
    },
    {
     "name": "stdout",
     "output_type": "stream",
     "text": [
      "0 19 110 240 153 255\n",
      "0 19 110 240 153 255\n",
      "0 19 110 240 153 255\n",
      "0 19 110 240 153 255\n",
      "0 19 110 240 153 255\n",
      "0 19 110 240 153 255\n",
      "0 19 110 240 153 255\n",
      "0 19 110 240 153 255\n",
      "0 19 110 240 153 255\n",
      "0 19 110 240 153 255\n",
      "0 19 110 240 153 255\n",
      "0 19 110 240 153 255\n",
      "0 19 110 240 153 255\n",
      "0 19 110 240 153 255\n",
      "0 19 110 240 153 255\n",
      "0 19 110 240 153 255\n",
      "0 19 110 240 153 255\n",
      "0 19 110 240 153 255\n",
      "0 19 110 240 153 255\n",
      "0 19 110 240 153 255\n",
      "0 19 110 240 153 255\n",
      "0 19 110 240 153 255\n",
      "0 19 110 240 153 255\n",
      "0 19 110 240 153 255\n",
      "0 19 110 240 153 255\n",
      "0 19 110 240 153 255\n",
      "0 19 110 240 153 255\n",
      "0 19 110 240 153 255\n",
      "0 19 110 240 153 255\n",
      "0 19 110 240 153 255\n",
      "0 19 110 240 153 255\n",
      "0 19 110 240 153 255\n",
      "0 19 110 240 153 255\n",
      "0 19 110 240 153 255\n",
      "0 19 110 240 153 255\n",
      "0 19 110 240 153 255\n",
      "0 19 110 240 153 255\n",
      "0 19 110 240 153 255\n",
      "0 19 110 240 153 255\n",
      "0 19 110 240 153 255\n",
      "0 19 110 240 153 255\n",
      "0 19 110 240 153 255\n",
      "0 19 110 240 153 255\n"
     ]
    },
    {
     "ename": "TypeError",
     "evalue": "empty() takes 0 positional arguments but 1 was given",
     "output_type": "error",
     "traceback": [
      "\u001b[1;31m---------------------------------------------------------------------------\u001b[0m",
      "\u001b[1;31mTypeError\u001b[0m                                 Traceback (most recent call last)",
      "\u001b[1;31mTypeError\u001b[0m: empty() takes 0 positional arguments but 1 was given"
     ]
    },
    {
     "ename": "TypeError",
     "evalue": "empty() takes 0 positional arguments but 1 was given",
     "output_type": "error",
     "traceback": [
      "\u001b[1;31m---------------------------------------------------------------------------\u001b[0m",
      "\u001b[1;31mTypeError\u001b[0m                                 Traceback (most recent call last)",
      "\u001b[1;31mTypeError\u001b[0m: empty() takes 0 positional arguments but 1 was given"
     ]
    },
    {
     "ename": "TypeError",
     "evalue": "empty() takes 0 positional arguments but 1 was given",
     "output_type": "error",
     "traceback": [
      "\u001b[1;31m---------------------------------------------------------------------------\u001b[0m",
      "\u001b[1;31mTypeError\u001b[0m                                 Traceback (most recent call last)",
      "\u001b[1;31mTypeError\u001b[0m: empty() takes 0 positional arguments but 1 was given"
     ]
    },
    {
     "ename": "TypeError",
     "evalue": "empty() takes 0 positional arguments but 1 was given",
     "output_type": "error",
     "traceback": [
      "\u001b[1;31m---------------------------------------------------------------------------\u001b[0m",
      "\u001b[1;31mTypeError\u001b[0m                                 Traceback (most recent call last)",
      "\u001b[1;31mTypeError\u001b[0m: empty() takes 0 positional arguments but 1 was given"
     ]
    },
    {
     "name": "stdout",
     "output_type": "stream",
     "text": [
      "0 29 110 240 153 255\n"
     ]
    },
    {
     "ename": "TypeError",
     "evalue": "empty() takes 0 positional arguments but 1 was given",
     "output_type": "error",
     "traceback": [
      "\u001b[1;31m---------------------------------------------------------------------------\u001b[0m",
      "\u001b[1;31mTypeError\u001b[0m                                 Traceback (most recent call last)",
      "\u001b[1;31mTypeError\u001b[0m: empty() takes 0 positional arguments but 1 was given"
     ]
    },
    {
     "name": "stdout",
     "output_type": "stream",
     "text": [
      "0 33 110 240 153 255\n"
     ]
    },
    {
     "ename": "TypeError",
     "evalue": "empty() takes 0 positional arguments but 1 was given",
     "output_type": "error",
     "traceback": [
      "\u001b[1;31m---------------------------------------------------------------------------\u001b[0m",
      "\u001b[1;31mTypeError\u001b[0m                                 Traceback (most recent call last)",
      "\u001b[1;31mTypeError\u001b[0m: empty() takes 0 positional arguments but 1 was given"
     ]
    },
    {
     "name": "stdout",
     "output_type": "stream",
     "text": [
      "0 40 110 240 153 255\n"
     ]
    },
    {
     "ename": "TypeError",
     "evalue": "empty() takes 0 positional arguments but 1 was given",
     "output_type": "error",
     "traceback": [
      "\u001b[1;31m---------------------------------------------------------------------------\u001b[0m",
      "\u001b[1;31mTypeError\u001b[0m                                 Traceback (most recent call last)",
      "\u001b[1;31mTypeError\u001b[0m: empty() takes 0 positional arguments but 1 was given"
     ]
    },
    {
     "name": "stdout",
     "output_type": "stream",
     "text": [
      "0 52 110 240 153 255\n"
     ]
    },
    {
     "ename": "TypeError",
     "evalue": "empty() takes 0 positional arguments but 1 was given",
     "output_type": "error",
     "traceback": [
      "\u001b[1;31m---------------------------------------------------------------------------\u001b[0m",
      "\u001b[1;31mTypeError\u001b[0m                                 Traceback (most recent call last)",
      "\u001b[1;31mTypeError\u001b[0m: empty() takes 0 positional arguments but 1 was given"
     ]
    },
    {
     "ename": "TypeError",
     "evalue": "empty() takes 0 positional arguments but 1 was given",
     "output_type": "error",
     "traceback": [
      "\u001b[1;31m---------------------------------------------------------------------------\u001b[0m",
      "\u001b[1;31mTypeError\u001b[0m                                 Traceback (most recent call last)",
      "\u001b[1;31mTypeError\u001b[0m: empty() takes 0 positional arguments but 1 was given"
     ]
    },
    {
     "name": "stdout",
     "output_type": "stream",
     "text": [
      "0 84 110 240 153 255\n",
      "0 84 110 240 153 255\n"
     ]
    },
    {
     "ename": "TypeError",
     "evalue": "empty() takes 0 positional arguments but 1 was given",
     "output_type": "error",
     "traceback": [
      "\u001b[1;31m---------------------------------------------------------------------------\u001b[0m",
      "\u001b[1;31mTypeError\u001b[0m                                 Traceback (most recent call last)",
      "\u001b[1;31mTypeError\u001b[0m: empty() takes 0 positional arguments but 1 was given"
     ]
    },
    {
     "name": "stdout",
     "output_type": "stream",
     "text": [
      "0 107 110 240 153 255\n"
     ]
    },
    {
     "ename": "TypeError",
     "evalue": "empty() takes 0 positional arguments but 1 was given",
     "output_type": "error",
     "traceback": [
      "\u001b[1;31m---------------------------------------------------------------------------\u001b[0m",
      "\u001b[1;31mTypeError\u001b[0m                                 Traceback (most recent call last)",
      "\u001b[1;31mTypeError\u001b[0m: empty() takes 0 positional arguments but 1 was given"
     ]
    },
    {
     "name": "stdout",
     "output_type": "stream",
     "text": [
      "0 113 110 240 153 255\n"
     ]
    },
    {
     "ename": "TypeError",
     "evalue": "empty() takes 0 positional arguments but 1 was given",
     "output_type": "error",
     "traceback": [
      "\u001b[1;31m---------------------------------------------------------------------------\u001b[0m",
      "\u001b[1;31mTypeError\u001b[0m                                 Traceback (most recent call last)",
      "\u001b[1;31mTypeError\u001b[0m: empty() takes 0 positional arguments but 1 was given"
     ]
    },
    {
     "name": "stdout",
     "output_type": "stream",
     "text": [
      "0 160 110 240 153 255\n"
     ]
    },
    {
     "ename": "TypeError",
     "evalue": "empty() takes 0 positional arguments but 1 was given",
     "output_type": "error",
     "traceback": [
      "\u001b[1;31m---------------------------------------------------------------------------\u001b[0m",
      "\u001b[1;31mTypeError\u001b[0m                                 Traceback (most recent call last)",
      "\u001b[1;31mTypeError\u001b[0m: empty() takes 0 positional arguments but 1 was given"
     ]
    },
    {
     "name": "stdout",
     "output_type": "stream",
     "text": [
      "0 170 110 240 153 255\n"
     ]
    },
    {
     "ename": "TypeError",
     "evalue": "empty() takes 0 positional arguments but 1 was given",
     "output_type": "error",
     "traceback": [
      "\u001b[1;31m---------------------------------------------------------------------------\u001b[0m",
      "\u001b[1;31mTypeError\u001b[0m                                 Traceback (most recent call last)",
      "\u001b[1;31mTypeError\u001b[0m: empty() takes 0 positional arguments but 1 was given"
     ]
    },
    {
     "name": "stdout",
     "output_type": "stream",
     "text": [
      "0 179 110 240 153 255\n",
      "0 179 110 240 153 255\n",
      "0 179 110 240 153 255\n",
      "0 179 110 240 153 255\n",
      "0 179 110 240 153 255\n",
      "0 179 110 240 153 255\n",
      "0 179 110 240 153 255\n",
      "0 179 110 240 153 255\n",
      "0 179 110 240 153 255\n",
      "0 179 110 240 153 255\n",
      "0 179 110 240 153 255\n",
      "0 179 110 240 153 255\n",
      "0 179 110 240 153 255\n",
      "0 179 110 240 153 255\n",
      "0 179 110 240 153 255\n",
      "0 179 110 240 153 255\n",
      "0 179 110 240 153 255\n",
      "0 179 110 240 153 255\n",
      "0 179 110 240 153 255\n",
      "0 179 110 240 153 255\n",
      "0 179 110 240 153 255\n",
      "0 179 110 240 153 255\n",
      "0 179 110 240 153 255\n",
      "0 179 110 240 153 255\n",
      "0 179 110 240 153 255\n",
      "0 179 110 240 153 255\n",
      "0 179 110 240 153 255\n",
      "0 179 110 240 153 255\n",
      "0 179 110 240 153 255\n",
      "0 179 110 240 153 255\n",
      "0 179 110 240 153 255\n",
      "0 179 110 240 153 255\n",
      "0 179 110 240 153 255\n",
      "0 179 110 240 153 255\n",
      "0 179 110 240 153 255\n",
      "0 179 110 240 153 255\n",
      "0 179 110 240 153 255\n",
      "0 179 110 240 153 255\n",
      "0 179 110 240 153 255\n",
      "0 179 110 240 153 255\n",
      "0 179 110 240 153 255\n",
      "0 179 110 240 153 255\n",
      "0 179 110 240 153 255\n",
      "0 179 110 240 153 255\n",
      "0 179 110 240 153 255\n",
      "0 179 110 240 153 255\n",
      "0 179 110 240 153 255\n",
      "0 179 110 240 153 255\n",
      "0 179 110 240 153 255\n",
      "0 179 110 240 153 255\n",
      "0 179 110 240 153 255\n",
      "0 179 110 240 153 255\n",
      "0 179 110 240 153 255\n",
      "0 179 110 240 153 255\n",
      "0 179 110 240 153 255\n",
      "0 179 110 240 153 255\n",
      "0 179 110 240 153 255\n",
      "0 179 110 240 153 255\n",
      "0 179 110 240 153 255\n",
      "0 179 110 240 153 255\n"
     ]
    },
    {
     "ename": "TypeError",
     "evalue": "empty() takes 0 positional arguments but 1 was given",
     "output_type": "error",
     "traceback": [
      "\u001b[1;31m---------------------------------------------------------------------------\u001b[0m",
      "\u001b[1;31mTypeError\u001b[0m                                 Traceback (most recent call last)",
      "\u001b[1;31mTypeError\u001b[0m: empty() takes 0 positional arguments but 1 was given"
     ]
    },
    {
     "ename": "TypeError",
     "evalue": "empty() takes 0 positional arguments but 1 was given",
     "output_type": "error",
     "traceback": [
      "\u001b[1;31m---------------------------------------------------------------------------\u001b[0m",
      "\u001b[1;31mTypeError\u001b[0m                                 Traceback (most recent call last)",
      "\u001b[1;31mTypeError\u001b[0m: empty() takes 0 positional arguments but 1 was given"
     ]
    },
    {
     "name": "stdout",
     "output_type": "stream",
     "text": [
      "0 179 100 240 153 255\n"
     ]
    },
    {
     "ename": "TypeError",
     "evalue": "empty() takes 0 positional arguments but 1 was given",
     "output_type": "error",
     "traceback": [
      "\u001b[1;31m---------------------------------------------------------------------------\u001b[0m",
      "\u001b[1;31mTypeError\u001b[0m                                 Traceback (most recent call last)",
      "\u001b[1;31mTypeError\u001b[0m: empty() takes 0 positional arguments but 1 was given"
     ]
    },
    {
     "ename": "TypeError",
     "evalue": "empty() takes 0 positional arguments but 1 was given",
     "output_type": "error",
     "traceback": [
      "\u001b[1;31m---------------------------------------------------------------------------\u001b[0m",
      "\u001b[1;31mTypeError\u001b[0m                                 Traceback (most recent call last)",
      "\u001b[1;31mTypeError\u001b[0m: empty() takes 0 positional arguments but 1 was given"
     ]
    },
    {
     "name": "stdout",
     "output_type": "stream",
     "text": [
      "0 179 85 240 153 255\n"
     ]
    },
    {
     "ename": "TypeError",
     "evalue": "empty() takes 0 positional arguments but 1 was given",
     "output_type": "error",
     "traceback": [
      "\u001b[1;31m---------------------------------------------------------------------------\u001b[0m",
      "\u001b[1;31mTypeError\u001b[0m                                 Traceback (most recent call last)",
      "\u001b[1;31mTypeError\u001b[0m: empty() takes 0 positional arguments but 1 was given"
     ]
    },
    {
     "name": "stdout",
     "output_type": "stream",
     "text": [
      "0 179 55 240 153 255\n",
      "0 179 55 240 153 255\n"
     ]
    },
    {
     "ename": "TypeError",
     "evalue": "empty() takes 0 positional arguments but 1 was given",
     "output_type": "error",
     "traceback": [
      "\u001b[1;31m---------------------------------------------------------------------------\u001b[0m",
      "\u001b[1;31mTypeError\u001b[0m                                 Traceback (most recent call last)",
      "\u001b[1;31mTypeError\u001b[0m: empty() takes 0 positional arguments but 1 was given"
     ]
    },
    {
     "name": "stdout",
     "output_type": "stream",
     "text": [
      "0 179 22 240 153 255\n"
     ]
    },
    {
     "ename": "TypeError",
     "evalue": "empty() takes 0 positional arguments but 1 was given",
     "output_type": "error",
     "traceback": [
      "\u001b[1;31m---------------------------------------------------------------------------\u001b[0m",
      "\u001b[1;31mTypeError\u001b[0m                                 Traceback (most recent call last)",
      "\u001b[1;31mTypeError\u001b[0m: empty() takes 0 positional arguments but 1 was given"
     ]
    },
    {
     "name": "stdout",
     "output_type": "stream",
     "text": [
      "0 179 17 240 153 255\n"
     ]
    },
    {
     "ename": "TypeError",
     "evalue": "empty() takes 0 positional arguments but 1 was given",
     "output_type": "error",
     "traceback": [
      "\u001b[1;31m---------------------------------------------------------------------------\u001b[0m",
      "\u001b[1;31mTypeError\u001b[0m                                 Traceback (most recent call last)",
      "\u001b[1;31mTypeError\u001b[0m: empty() takes 0 positional arguments but 1 was given"
     ]
    },
    {
     "name": "stdout",
     "output_type": "stream",
     "text": [
      "0 179 0 240 153 255\n",
      "0 179 0 240 153 255\n",
      "0 179 0 240 153 255\n",
      "0 179 0 240 153 255\n",
      "0 179 0 240 153 255\n",
      "0 179 0 240 153 255\n",
      "0 179 0 240 153 255\n",
      "0 179 0 240 153 255\n",
      "0 179 0 240 153 255\n",
      "0 179 0 240 153 255\n",
      "0 179 0 240 153 255\n",
      "0 179 0 240 153 255\n",
      "0 179 0 240 153 255\n",
      "0 179 0 240 153 255\n",
      "0 179 0 240 153 255\n",
      "0 179 0 240 153 255\n",
      "0 179 0 240 153 255\n",
      "0 179 0 240 153 255\n",
      "0 179 0 240 153 255\n",
      "0 179 0 240 153 255\n",
      "0 179 0 240 153 255\n",
      "0 179 0 240 153 255\n",
      "0 179 0 240 153 255\n",
      "0 179 0 240 153 255\n",
      "0 179 0 240 153 255\n",
      "0 179 0 240 153 255\n",
      "0 179 0 240 153 255\n",
      "0 179 0 240 153 255\n",
      "0 179 0 240 153 255\n",
      "0 179 0 240 153 255\n",
      "0 179 0 240 153 255\n",
      "0 179 0 240 153 255\n",
      "0 179 0 240 153 255\n",
      "0 179 0 240 153 255\n",
      "0 179 0 240 153 255\n",
      "0 179 0 240 153 255\n",
      "0 179 0 240 153 255\n",
      "0 179 0 240 153 255\n",
      "0 179 0 240 153 255\n",
      "0 179 0 240 153 255\n",
      "0 179 0 240 153 255\n",
      "0 179 0 240 153 255\n",
      "0 179 0 240 153 255\n",
      "0 179 0 240 153 255\n",
      "0 179 0 240 153 255\n",
      "0 179 0 240 153 255\n",
      "0 179 0 240 153 255\n",
      "0 179 0 240 153 255\n",
      "0 179 0 240 153 255\n",
      "0 179 0 240 153 255\n",
      "0 179 0 240 153 255\n",
      "0 179 0 240 153 255\n",
      "0 179 0 240 153 255\n",
      "0 179 0 240 153 255\n",
      "0 179 0 240 153 255\n",
      "0 179 0 240 153 255\n",
      "0 179 0 240 153 255\n",
      "0 179 0 240 153 255\n",
      "0 179 0 240 153 255\n",
      "0 179 0 240 153 255\n",
      "0 179 0 240 153 255\n",
      "0 179 0 240 153 255\n"
     ]
    },
    {
     "ename": "TypeError",
     "evalue": "empty() takes 0 positional arguments but 1 was given",
     "output_type": "error",
     "traceback": [
      "\u001b[1;31m---------------------------------------------------------------------------\u001b[0m",
      "\u001b[1;31mTypeError\u001b[0m                                 Traceback (most recent call last)",
      "\u001b[1;31mTypeError\u001b[0m: empty() takes 0 positional arguments but 1 was given"
     ]
    },
    {
     "ename": "TypeError",
     "evalue": "empty() takes 0 positional arguments but 1 was given",
     "output_type": "error",
     "traceback": [
      "\u001b[1;31m---------------------------------------------------------------------------\u001b[0m",
      "\u001b[1;31mTypeError\u001b[0m                                 Traceback (most recent call last)",
      "\u001b[1;31mTypeError\u001b[0m: empty() takes 0 positional arguments but 1 was given"
     ]
    },
    {
     "name": "stdout",
     "output_type": "stream",
     "text": [
      "0 179 0 246 153 255\n"
     ]
    },
    {
     "ename": "TypeError",
     "evalue": "empty() takes 0 positional arguments but 1 was given",
     "output_type": "error",
     "traceback": [
      "\u001b[1;31m---------------------------------------------------------------------------\u001b[0m",
      "\u001b[1;31mTypeError\u001b[0m                                 Traceback (most recent call last)",
      "\u001b[1;31mTypeError\u001b[0m: empty() takes 0 positional arguments but 1 was given"
     ]
    },
    {
     "name": "stdout",
     "output_type": "stream",
     "text": [
      "0 179 0 249 153 255\n"
     ]
    },
    {
     "ename": "TypeError",
     "evalue": "empty() takes 0 positional arguments but 1 was given",
     "output_type": "error",
     "traceback": [
      "\u001b[1;31m---------------------------------------------------------------------------\u001b[0m",
      "\u001b[1;31mTypeError\u001b[0m                                 Traceback (most recent call last)",
      "\u001b[1;31mTypeError\u001b[0m: empty() takes 0 positional arguments but 1 was given"
     ]
    },
    {
     "name": "stdout",
     "output_type": "stream",
     "text": [
      "0 179 0 255 153 255\n",
      "0 179 0 255 153 255\n",
      "0 179 0 255 153 255\n",
      "0 179 0 255 153 255\n",
      "0 179 0 255 153 255\n",
      "0 179 0 255 153 255\n",
      "0 179 0 255 153 255\n",
      "0 179 0 255 153 255\n",
      "0 179 0 255 153 255\n",
      "0 179 0 255 153 255\n",
      "0 179 0 255 153 255\n",
      "0 179 0 255 153 255\n",
      "0 179 0 255 153 255\n",
      "0 179 0 255 153 255\n",
      "0 179 0 255 153 255\n",
      "0 179 0 255 153 255\n",
      "0 179 0 255 153 255\n",
      "0 179 0 255 153 255\n",
      "0 179 0 255 153 255\n",
      "0 179 0 255 153 255\n",
      "0 179 0 255 153 255\n",
      "0 179 0 255 153 255\n",
      "0 179 0 255 153 255\n",
      "0 179 0 255 153 255\n",
      "0 179 0 255 153 255\n",
      "0 179 0 255 153 255\n",
      "0 179 0 255 153 255\n",
      "0 179 0 255 153 255\n",
      "0 179 0 255 153 255\n",
      "0 179 0 255 153 255\n",
      "0 179 0 255 153 255\n",
      "0 179 0 255 153 255\n",
      "0 179 0 255 153 255\n",
      "0 179 0 255 153 255\n",
      "0 179 0 255 153 255\n",
      "0 179 0 255 153 255\n",
      "0 179 0 255 153 255\n",
      "0 179 0 255 153 255\n",
      "0 179 0 255 153 255\n",
      "0 179 0 255 153 255\n",
      "0 179 0 255 153 255\n",
      "0 179 0 255 153 255\n",
      "0 179 0 255 153 255\n",
      "0 179 0 255 153 255\n",
      "0 179 0 255 153 255\n",
      "0 179 0 255 153 255\n",
      "0 179 0 255 153 255\n",
      "0 179 0 255 153 255\n",
      "0 179 0 255 153 255\n",
      "0 179 0 255 153 255\n",
      "0 179 0 255 153 255\n",
      "0 179 0 255 153 255\n",
      "0 179 0 255 153 255\n",
      "0 179 0 255 153 255\n",
      "0 179 0 255 153 255\n",
      "0 179 0 255 153 255\n",
      "0 179 0 255 153 255\n"
     ]
    },
    {
     "ename": "TypeError",
     "evalue": "empty() takes 0 positional arguments but 1 was given",
     "output_type": "error",
     "traceback": [
      "\u001b[1;31m---------------------------------------------------------------------------\u001b[0m",
      "\u001b[1;31mTypeError\u001b[0m                                 Traceback (most recent call last)",
      "\u001b[1;31mTypeError\u001b[0m: empty() takes 0 positional arguments but 1 was given"
     ]
    },
    {
     "name": "stdout",
     "output_type": "stream",
     "text": [
      "0 179 0 255 148 255\n"
     ]
    },
    {
     "ename": "TypeError",
     "evalue": "empty() takes 0 positional arguments but 1 was given",
     "output_type": "error",
     "traceback": [
      "\u001b[1;31m---------------------------------------------------------------------------\u001b[0m",
      "\u001b[1;31mTypeError\u001b[0m                                 Traceback (most recent call last)",
      "\u001b[1;31mTypeError\u001b[0m: empty() takes 0 positional arguments but 1 was given"
     ]
    },
    {
     "ename": "TypeError",
     "evalue": "empty() takes 0 positional arguments but 1 was given",
     "output_type": "error",
     "traceback": [
      "\u001b[1;31m---------------------------------------------------------------------------\u001b[0m",
      "\u001b[1;31mTypeError\u001b[0m                                 Traceback (most recent call last)",
      "\u001b[1;31mTypeError\u001b[0m: empty() takes 0 positional arguments but 1 was given"
     ]
    },
    {
     "name": "stdout",
     "output_type": "stream",
     "text": [
      "0 179 0 255 145 255\n"
     ]
    },
    {
     "ename": "TypeError",
     "evalue": "empty() takes 0 positional arguments but 1 was given",
     "output_type": "error",
     "traceback": [
      "\u001b[1;31m---------------------------------------------------------------------------\u001b[0m",
      "\u001b[1;31mTypeError\u001b[0m                                 Traceback (most recent call last)",
      "\u001b[1;31mTypeError\u001b[0m: empty() takes 0 positional arguments but 1 was given"
     ]
    },
    {
     "name": "stdout",
     "output_type": "stream",
     "text": [
      "0 179 0 255 133 255\n"
     ]
    },
    {
     "ename": "TypeError",
     "evalue": "empty() takes 0 positional arguments but 1 was given",
     "output_type": "error",
     "traceback": [
      "\u001b[1;31m---------------------------------------------------------------------------\u001b[0m",
      "\u001b[1;31mTypeError\u001b[0m                                 Traceback (most recent call last)",
      "\u001b[1;31mTypeError\u001b[0m: empty() takes 0 positional arguments but 1 was given"
     ]
    },
    {
     "name": "stdout",
     "output_type": "stream",
     "text": [
      "0 179 0 255 112 255\n"
     ]
    },
    {
     "ename": "TypeError",
     "evalue": "empty() takes 0 positional arguments but 1 was given",
     "output_type": "error",
     "traceback": [
      "\u001b[1;31m---------------------------------------------------------------------------\u001b[0m",
      "\u001b[1;31mTypeError\u001b[0m                                 Traceback (most recent call last)",
      "\u001b[1;31mTypeError\u001b[0m: empty() takes 0 positional arguments but 1 was given"
     ]
    },
    {
     "ename": "TypeError",
     "evalue": "empty() takes 0 positional arguments but 1 was given",
     "output_type": "error",
     "traceback": [
      "\u001b[1;31m---------------------------------------------------------------------------\u001b[0m",
      "\u001b[1;31mTypeError\u001b[0m                                 Traceback (most recent call last)",
      "\u001b[1;31mTypeError\u001b[0m: empty() takes 0 positional arguments but 1 was given"
     ]
    },
    {
     "name": "stdout",
     "output_type": "stream",
     "text": [
      "0 179 0 255 26 255\n"
     ]
    },
    {
     "ename": "TypeError",
     "evalue": "empty() takes 0 positional arguments but 1 was given",
     "output_type": "error",
     "traceback": [
      "\u001b[1;31m---------------------------------------------------------------------------\u001b[0m",
      "\u001b[1;31mTypeError\u001b[0m                                 Traceback (most recent call last)",
      "\u001b[1;31mTypeError\u001b[0m: empty() takes 0 positional arguments but 1 was given"
     ]
    },
    {
     "name": "stdout",
     "output_type": "stream",
     "text": [
      "0 179 0 255 17 255\n",
      "0 179 0 255 17 255\n"
     ]
    },
    {
     "ename": "TypeError",
     "evalue": "empty() takes 0 positional arguments but 1 was given",
     "output_type": "error",
     "traceback": [
      "\u001b[1;31m---------------------------------------------------------------------------\u001b[0m",
      "\u001b[1;31mTypeError\u001b[0m                                 Traceback (most recent call last)",
      "\u001b[1;31mTypeError\u001b[0m: empty() takes 0 positional arguments but 1 was given"
     ]
    },
    {
     "name": "stdout",
     "output_type": "stream",
     "text": [
      "0 179 0 255 18 255\n",
      "0 179 0 255 18 255\n",
      "0 179 0 255 18 255\n",
      "0 179 0 255 18 255\n",
      "0 179 0 255 18 255\n",
      "0 179 0 255 18 255\n",
      "0 179 0 255 18 255\n",
      "0 179 0 255 18 255\n"
     ]
    },
    {
     "ename": "TypeError",
     "evalue": "empty() takes 0 positional arguments but 1 was given",
     "output_type": "error",
     "traceback": [
      "\u001b[1;31m---------------------------------------------------------------------------\u001b[0m",
      "\u001b[1;31mTypeError\u001b[0m                                 Traceback (most recent call last)",
      "\u001b[1;31mTypeError\u001b[0m: empty() takes 0 positional arguments but 1 was given"
     ]
    },
    {
     "name": "stdout",
     "output_type": "stream",
     "text": [
      "0 179 0 255 16 255\n"
     ]
    },
    {
     "ename": "TypeError",
     "evalue": "empty() takes 0 positional arguments but 1 was given",
     "output_type": "error",
     "traceback": [
      "\u001b[1;31m---------------------------------------------------------------------------\u001b[0m",
      "\u001b[1;31mTypeError\u001b[0m                                 Traceback (most recent call last)",
      "\u001b[1;31mTypeError\u001b[0m: empty() takes 0 positional arguments but 1 was given"
     ]
    },
    {
     "ename": "TypeError",
     "evalue": "empty() takes 0 positional arguments but 1 was given",
     "output_type": "error",
     "traceback": [
      "\u001b[1;31m---------------------------------------------------------------------------\u001b[0m",
      "\u001b[1;31mTypeError\u001b[0m                                 Traceback (most recent call last)",
      "\u001b[1;31mTypeError\u001b[0m: empty() takes 0 positional arguments but 1 was given"
     ]
    },
    {
     "name": "stdout",
     "output_type": "stream",
     "text": [
      "0 179 0 255 7 255\n",
      "0 179 0 255 7 255\n"
     ]
    },
    {
     "ename": "TypeError",
     "evalue": "empty() takes 0 positional arguments but 1 was given",
     "output_type": "error",
     "traceback": [
      "\u001b[1;31m---------------------------------------------------------------------------\u001b[0m",
      "\u001b[1;31mTypeError\u001b[0m                                 Traceback (most recent call last)",
      "\u001b[1;31mTypeError\u001b[0m: empty() takes 0 positional arguments but 1 was given"
     ]
    },
    {
     "name": "stdout",
     "output_type": "stream",
     "text": [
      "0 179 0 255 6 255\n",
      "0 179 0 255 6 255\n",
      "0 179 0 255 6 255\n",
      "0 179 0 255 6 255\n",
      "0 179 0 255 6 255\n",
      "0 179 0 255 6 255\n",
      "0 179 0 255 6 255\n",
      "0 179 0 255 6 255\n",
      "0 179 0 255 6 255\n",
      "0 179 0 255 6 255\n",
      "0 179 0 255 6 255\n",
      "0 179 0 255 6 255\n",
      "0 179 0 255 6 255\n",
      "0 179 0 255 6 255\n",
      "0 179 0 255 6 255\n",
      "0 179 0 255 6 255\n",
      "0 179 0 255 6 255\n",
      "0 179 0 255 6 255\n",
      "0 179 0 255 6 255\n",
      "0 179 0 255 6 255\n",
      "0 179 0 255 6 255\n",
      "0 179 0 255 6 255\n",
      "0 179 0 255 6 255\n",
      "0 179 0 255 6 255\n",
      "0 179 0 255 6 255\n",
      "0 179 0 255 6 255\n",
      "0 179 0 255 6 255\n",
      "0 179 0 255 6 255\n",
      "0 179 0 255 6 255\n",
      "0 179 0 255 6 255\n",
      "0 179 0 255 6 255\n",
      "0 179 0 255 6 255\n",
      "0 179 0 255 6 255\n",
      "0 179 0 255 6 255\n",
      "0 179 0 255 6 255\n",
      "0 179 0 255 6 255\n",
      "0 179 0 255 6 255\n",
      "0 179 0 255 6 255\n",
      "0 179 0 255 6 255\n",
      "0 179 0 255 6 255\n",
      "0 179 0 255 6 255\n",
      "0 179 0 255 6 255\n",
      "0 179 0 255 6 255\n",
      "0 179 0 255 6 255\n",
      "0 179 0 255 6 255\n",
      "0 179 0 255 6 255\n",
      "0 179 0 255 6 255\n",
      "0 179 0 255 6 255\n",
      "0 179 0 255 6 255\n",
      "0 179 0 255 6 255\n",
      "0 179 0 255 6 255\n",
      "0 179 0 255 6 255\n",
      "0 179 0 255 6 255\n",
      "0 179 0 255 6 255\n",
      "0 179 0 255 6 255\n",
      "0 179 0 255 6 255\n",
      "0 179 0 255 6 255\n",
      "0 179 0 255 6 255\n",
      "0 179 0 255 6 255\n",
      "0 179 0 255 6 255\n",
      "0 179 0 255 6 255\n",
      "0 179 0 255 6 255\n",
      "0 179 0 255 6 255\n",
      "0 179 0 255 6 255\n",
      "0 179 0 255 6 255\n",
      "0 179 0 255 6 255\n",
      "0 179 0 255 6 255\n",
      "0 179 0 255 6 255\n",
      "0 179 0 255 6 255\n",
      "0 179 0 255 6 255\n",
      "0 179 0 255 6 255\n",
      "0 179 0 255 6 255\n",
      "0 179 0 255 6 255\n",
      "0 179 0 255 6 255\n",
      "0 179 0 255 6 255\n",
      "0 179 0 255 6 255\n",
      "0 179 0 255 6 255\n",
      "0 179 0 255 6 255\n",
      "0 179 0 255 6 255\n",
      "0 179 0 255 6 255\n",
      "0 179 0 255 6 255\n",
      "0 179 0 255 6 255\n",
      "0 179 0 255 6 255\n",
      "0 179 0 255 6 255\n",
      "0 179 0 255 6 255\n",
      "0 179 0 255 6 255\n",
      "0 179 0 255 6 255\n",
      "0 179 0 255 6 255\n",
      "0 179 0 255 6 255\n",
      "0 179 0 255 6 255\n",
      "0 179 0 255 6 255\n",
      "0 179 0 255 6 255\n",
      "0 179 0 255 6 255\n",
      "0 179 0 255 6 255\n",
      "0 179 0 255 6 255\n",
      "0 179 0 255 6 255\n",
      "0 179 0 255 6 255\n",
      "0 179 0 255 6 255\n",
      "0 179 0 255 6 255\n",
      "0 179 0 255 6 255\n",
      "0 179 0 255 6 255\n",
      "0 179 0 255 6 255\n",
      "0 179 0 255 6 255\n",
      "0 179 0 255 6 255\n",
      "0 179 0 255 6 255\n",
      "0 179 0 255 6 255\n",
      "0 179 0 255 6 255\n",
      "0 179 0 255 6 255\n",
      "0 179 0 255 6 255\n",
      "0 179 0 255 6 255\n",
      "0 179 0 255 6 255\n",
      "0 179 0 255 6 255\n",
      "0 179 0 255 6 255\n",
      "0 179 0 255 6 255\n",
      "0 179 0 255 6 255\n",
      "0 179 0 255 6 255\n",
      "0 179 0 255 6 255\n",
      "0 179 0 255 6 255\n",
      "0 179 0 255 6 255\n",
      "0 179 0 255 6 255\n",
      "0 179 0 255 6 255\n",
      "0 179 0 255 6 255\n",
      "0 179 0 255 6 255\n",
      "0 179 0 255 6 255\n",
      "0 179 0 255 6 255\n",
      "0 179 0 255 6 255\n",
      "0 179 0 255 6 255\n",
      "0 179 0 255 6 255\n",
      "0 179 0 255 6 255\n",
      "0 179 0 255 6 255\n",
      "0 179 0 255 6 255\n",
      "0 179 0 255 6 255\n",
      "0 179 0 255 6 255\n",
      "0 179 0 255 6 255\n",
      "0 179 0 255 6 255\n",
      "0 179 0 255 6 255\n",
      "0 179 0 255 6 255\n",
      "0 179 0 255 6 255\n",
      "0 179 0 255 6 255\n",
      "0 179 0 255 6 255\n",
      "0 179 0 255 6 255\n",
      "0 179 0 255 6 255\n",
      "0 179 0 255 6 255\n",
      "0 179 0 255 6 255\n",
      "0 179 0 255 6 255\n",
      "0 179 0 255 6 255\n",
      "0 179 0 255 6 255\n",
      "0 179 0 255 6 255\n",
      "0 179 0 255 6 255\n",
      "0 179 0 255 6 255\n",
      "0 179 0 255 6 255\n",
      "0 179 0 255 6 255\n",
      "0 179 0 255 6 255\n",
      "0 179 0 255 6 255\n",
      "0 179 0 255 6 255\n",
      "0 179 0 255 6 255\n",
      "0 179 0 255 6 255\n",
      "0 179 0 255 6 255\n",
      "0 179 0 255 6 255\n",
      "0 179 0 255 6 255\n",
      "0 179 0 255 6 255\n",
      "0 179 0 255 6 255\n",
      "0 179 0 255 6 255\n",
      "0 179 0 255 6 255\n",
      "0 179 0 255 6 255\n",
      "0 179 0 255 6 255\n",
      "0 179 0 255 6 255\n",
      "0 179 0 255 6 255\n",
      "0 179 0 255 6 255\n",
      "0 179 0 255 6 255\n",
      "0 179 0 255 6 255\n",
      "0 179 0 255 6 255\n",
      "0 179 0 255 6 255\n",
      "0 179 0 255 6 255\n"
     ]
    },
    {
     "ename": "TypeError",
     "evalue": "empty() takes 0 positional arguments but 1 was given",
     "output_type": "error",
     "traceback": [
      "\u001b[1;31m---------------------------------------------------------------------------\u001b[0m",
      "\u001b[1;31mTypeError\u001b[0m                                 Traceback (most recent call last)",
      "\u001b[1;31mTypeError\u001b[0m: empty() takes 0 positional arguments but 1 was given"
     ]
    },
    {
     "name": "stdout",
     "output_type": "stream",
     "text": [
      "35 179 0 255 6 255\n",
      "35 179 0 255 6 255\n",
      "35 179 0 255 6 255\n",
      "35 179 0 255 6 255\n",
      "35 179 0 255 6 255\n",
      "35 179 0 255 6 255\n",
      "35 179 0 255 6 255\n",
      "35 179 0 255 6 255\n",
      "35 179 0 255 6 255\n",
      "35 179 0 255 6 255\n",
      "35 179 0 255 6 255\n",
      "35 179 0 255 6 255\n",
      "35 179 0 255 6 255\n",
      "35 179 0 255 6 255\n",
      "35 179 0 255 6 255\n",
      "35 179 0 255 6 255\n",
      "35 179 0 255 6 255\n",
      "35 179 0 255 6 255\n",
      "35 179 0 255 6 255\n",
      "35 179 0 255 6 255\n",
      "35 179 0 255 6 255\n",
      "35 179 0 255 6 255\n",
      "35 179 0 255 6 255\n",
      "35 179 0 255 6 255\n",
      "35 179 0 255 6 255\n",
      "35 179 0 255 6 255\n",
      "35 179 0 255 6 255\n",
      "35 179 0 255 6 255\n",
      "35 179 0 255 6 255\n",
      "35 179 0 255 6 255\n",
      "35 179 0 255 6 255\n",
      "35 179 0 255 6 255\n",
      "35 179 0 255 6 255\n",
      "35 179 0 255 6 255\n",
      "35 179 0 255 6 255\n",
      "35 179 0 255 6 255\n",
      "35 179 0 255 6 255\n",
      "35 179 0 255 6 255\n",
      "35 179 0 255 6 255\n",
      "35 179 0 255 6 255\n",
      "35 179 0 255 6 255\n",
      "35 179 0 255 6 255\n",
      "35 179 0 255 6 255\n",
      "35 179 0 255 6 255\n",
      "35 179 0 255 6 255\n",
      "35 179 0 255 6 255\n",
      "35 179 0 255 6 255\n",
      "35 179 0 255 6 255\n",
      "35 179 0 255 6 255\n",
      "35 179 0 255 6 255\n",
      "35 179 0 255 6 255\n",
      "35 179 0 255 6 255\n",
      "35 179 0 255 6 255\n",
      "35 179 0 255 6 255\n",
      "35 179 0 255 6 255\n",
      "35 179 0 255 6 255\n",
      "35 179 0 255 6 255\n",
      "35 179 0 255 6 255\n",
      "35 179 0 255 6 255\n",
      "35 179 0 255 6 255\n",
      "35 179 0 255 6 255\n",
      "35 179 0 255 6 255\n",
      "35 179 0 255 6 255\n",
      "35 179 0 255 6 255\n",
      "35 179 0 255 6 255\n",
      "35 179 0 255 6 255\n",
      "35 179 0 255 6 255\n",
      "35 179 0 255 6 255\n",
      "35 179 0 255 6 255\n",
      "35 179 0 255 6 255\n",
      "35 179 0 255 6 255\n",
      "35 179 0 255 6 255\n",
      "35 179 0 255 6 255\n",
      "35 179 0 255 6 255\n",
      "35 179 0 255 6 255\n",
      "35 179 0 255 6 255\n",
      "35 179 0 255 6 255\n",
      "35 179 0 255 6 255\n",
      "35 179 0 255 6 255\n",
      "35 179 0 255 6 255\n",
      "35 179 0 255 6 255\n",
      "35 179 0 255 6 255\n"
     ]
    },
    {
     "ename": "TypeError",
     "evalue": "empty() takes 0 positional arguments but 1 was given",
     "output_type": "error",
     "traceback": [
      "\u001b[1;31m---------------------------------------------------------------------------\u001b[0m",
      "\u001b[1;31mTypeError\u001b[0m                                 Traceback (most recent call last)",
      "\u001b[1;31mTypeError\u001b[0m: empty() takes 0 positional arguments but 1 was given"
     ]
    },
    {
     "ename": "TypeError",
     "evalue": "empty() takes 0 positional arguments but 1 was given",
     "output_type": "error",
     "traceback": [
      "\u001b[1;31m---------------------------------------------------------------------------\u001b[0m",
      "\u001b[1;31mTypeError\u001b[0m                                 Traceback (most recent call last)",
      "\u001b[1;31mTypeError\u001b[0m: empty() takes 0 positional arguments but 1 was given"
     ]
    },
    {
     "name": "stdout",
     "output_type": "stream",
     "text": [
      "35 176 0 255 6 255\n"
     ]
    },
    {
     "ename": "TypeError",
     "evalue": "empty() takes 0 positional arguments but 1 was given",
     "output_type": "error",
     "traceback": [
      "\u001b[1;31m---------------------------------------------------------------------------\u001b[0m",
      "\u001b[1;31mTypeError\u001b[0m                                 Traceback (most recent call last)",
      "\u001b[1;31mTypeError\u001b[0m: empty() takes 0 positional arguments but 1 was given"
     ]
    },
    {
     "name": "stdout",
     "output_type": "stream",
     "text": [
      "35 175 0 255 6 255\n",
      "35 175 0 255 6 255\n"
     ]
    },
    {
     "ename": "TypeError",
     "evalue": "empty() takes 0 positional arguments but 1 was given",
     "output_type": "error",
     "traceback": [
      "\u001b[1;31m---------------------------------------------------------------------------\u001b[0m",
      "\u001b[1;31mTypeError\u001b[0m                                 Traceback (most recent call last)",
      "\u001b[1;31mTypeError\u001b[0m: empty() takes 0 positional arguments but 1 was given"
     ]
    },
    {
     "name": "stdout",
     "output_type": "stream",
     "text": [
      "35 169 0 255 6 255\n"
     ]
    },
    {
     "ename": "TypeError",
     "evalue": "empty() takes 0 positional arguments but 1 was given",
     "output_type": "error",
     "traceback": [
      "\u001b[1;31m---------------------------------------------------------------------------\u001b[0m",
      "\u001b[1;31mTypeError\u001b[0m                                 Traceback (most recent call last)",
      "\u001b[1;31mTypeError\u001b[0m: empty() takes 0 positional arguments but 1 was given"
     ]
    },
    {
     "name": "stdout",
     "output_type": "stream",
     "text": [
      "35 167 0 255 6 255\n"
     ]
    },
    {
     "ename": "TypeError",
     "evalue": "empty() takes 0 positional arguments but 1 was given",
     "output_type": "error",
     "traceback": [
      "\u001b[1;31m---------------------------------------------------------------------------\u001b[0m",
      "\u001b[1;31mTypeError\u001b[0m                                 Traceback (most recent call last)",
      "\u001b[1;31mTypeError\u001b[0m: empty() takes 0 positional arguments but 1 was given"
     ]
    },
    {
     "ename": "TypeError",
     "evalue": "empty() takes 0 positional arguments but 1 was given",
     "output_type": "error",
     "traceback": [
      "\u001b[1;31m---------------------------------------------------------------------------\u001b[0m",
      "\u001b[1;31mTypeError\u001b[0m                                 Traceback (most recent call last)",
      "\u001b[1;31mTypeError\u001b[0m: empty() takes 0 positional arguments but 1 was given"
     ]
    },
    {
     "name": "stdout",
     "output_type": "stream",
     "text": [
      "35 162 0 255 6 255\n"
     ]
    },
    {
     "ename": "TypeError",
     "evalue": "empty() takes 0 positional arguments but 1 was given",
     "output_type": "error",
     "traceback": [
      "\u001b[1;31m---------------------------------------------------------------------------\u001b[0m",
      "\u001b[1;31mTypeError\u001b[0m                                 Traceback (most recent call last)",
      "\u001b[1;31mTypeError\u001b[0m: empty() takes 0 positional arguments but 1 was given"
     ]
    },
    {
     "name": "stdout",
     "output_type": "stream",
     "text": [
      "35 158 0 255 6 255\n"
     ]
    },
    {
     "ename": "TypeError",
     "evalue": "empty() takes 0 positional arguments but 1 was given",
     "output_type": "error",
     "traceback": [
      "\u001b[1;31m---------------------------------------------------------------------------\u001b[0m",
      "\u001b[1;31mTypeError\u001b[0m                                 Traceback (most recent call last)",
      "\u001b[1;31mTypeError\u001b[0m: empty() takes 0 positional arguments but 1 was given"
     ]
    },
    {
     "name": "stdout",
     "output_type": "stream",
     "text": [
      "35 156 0 255 6 255\n"
     ]
    },
    {
     "ename": "TypeError",
     "evalue": "empty() takes 0 positional arguments but 1 was given",
     "output_type": "error",
     "traceback": [
      "\u001b[1;31m---------------------------------------------------------------------------\u001b[0m",
      "\u001b[1;31mTypeError\u001b[0m                                 Traceback (most recent call last)",
      "\u001b[1;31mTypeError\u001b[0m: empty() takes 0 positional arguments but 1 was given"
     ]
    },
    {
     "name": "stdout",
     "output_type": "stream",
     "text": [
      "35 153 0 255 6 255\n",
      "35 153 0 255 6 255\n",
      "35 153 0 255 6 255\n",
      "35 153 0 255 6 255\n",
      "35 153 0 255 6 255\n",
      "35 153 0 255 6 255\n",
      "35 153 0 255 6 255\n",
      "35 153 0 255 6 255\n",
      "35 153 0 255 6 255\n"
     ]
    },
    {
     "ename": "TypeError",
     "evalue": "empty() takes 0 positional arguments but 1 was given",
     "output_type": "error",
     "traceback": [
      "\u001b[1;31m---------------------------------------------------------------------------\u001b[0m",
      "\u001b[1;31mTypeError\u001b[0m                                 Traceback (most recent call last)",
      "\u001b[1;31mTypeError\u001b[0m: empty() takes 0 positional arguments but 1 was given"
     ]
    },
    {
     "name": "stdout",
     "output_type": "stream",
     "text": [
      "35 152 0 255 6 255\n"
     ]
    },
    {
     "ename": "TypeError",
     "evalue": "empty() takes 0 positional arguments but 1 was given",
     "output_type": "error",
     "traceback": [
      "\u001b[1;31m---------------------------------------------------------------------------\u001b[0m",
      "\u001b[1;31mTypeError\u001b[0m                                 Traceback (most recent call last)",
      "\u001b[1;31mTypeError\u001b[0m: empty() takes 0 positional arguments but 1 was given"
     ]
    },
    {
     "name": "stdout",
     "output_type": "stream",
     "text": [
      "35 150 0 255 6 255\n"
     ]
    },
    {
     "ename": "TypeError",
     "evalue": "empty() takes 0 positional arguments but 1 was given",
     "output_type": "error",
     "traceback": [
      "\u001b[1;31m---------------------------------------------------------------------------\u001b[0m",
      "\u001b[1;31mTypeError\u001b[0m                                 Traceback (most recent call last)",
      "\u001b[1;31mTypeError\u001b[0m: empty() takes 0 positional arguments but 1 was given"
     ]
    },
    {
     "name": "stdout",
     "output_type": "stream",
     "text": [
      "35 142 0 255 6 255\n",
      "35 142 0 255 6 255\n"
     ]
    },
    {
     "ename": "TypeError",
     "evalue": "empty() takes 0 positional arguments but 1 was given",
     "output_type": "error",
     "traceback": [
      "\u001b[1;31m---------------------------------------------------------------------------\u001b[0m",
      "\u001b[1;31mTypeError\u001b[0m                                 Traceback (most recent call last)",
      "\u001b[1;31mTypeError\u001b[0m: empty() takes 0 positional arguments but 1 was given"
     ]
    },
    {
     "name": "stdout",
     "output_type": "stream",
     "text": [
      "35 133 0 255 6 255\n"
     ]
    },
    {
     "ename": "TypeError",
     "evalue": "empty() takes 0 positional arguments but 1 was given",
     "output_type": "error",
     "traceback": [
      "\u001b[1;31m---------------------------------------------------------------------------\u001b[0m",
      "\u001b[1;31mTypeError\u001b[0m                                 Traceback (most recent call last)",
      "\u001b[1;31mTypeError\u001b[0m: empty() takes 0 positional arguments but 1 was given"
     ]
    },
    {
     "name": "stdout",
     "output_type": "stream",
     "text": [
      "35 132 0 255 6 255\n"
     ]
    },
    {
     "ename": "TypeError",
     "evalue": "empty() takes 0 positional arguments but 1 was given",
     "output_type": "error",
     "traceback": [
      "\u001b[1;31m---------------------------------------------------------------------------\u001b[0m",
      "\u001b[1;31mTypeError\u001b[0m                                 Traceback (most recent call last)",
      "\u001b[1;31mTypeError\u001b[0m: empty() takes 0 positional arguments but 1 was given"
     ]
    },
    {
     "name": "stdout",
     "output_type": "stream",
     "text": [
      "35 126 0 255 6 255\n",
      "35 126 0 255 6 255\n",
      "35 126 0 255 6 255\n",
      "35 126 0 255 6 255\n",
      "35 126 0 255 6 255\n",
      "35 126 0 255 6 255\n",
      "35 126 0 255 6 255\n"
     ]
    },
    {
     "ename": "TypeError",
     "evalue": "empty() takes 0 positional arguments but 1 was given",
     "output_type": "error",
     "traceback": [
      "\u001b[1;31m---------------------------------------------------------------------------\u001b[0m",
      "\u001b[1;31mTypeError\u001b[0m                                 Traceback (most recent call last)",
      "\u001b[1;31mTypeError\u001b[0m: empty() takes 0 positional arguments but 1 was given"
     ]
    },
    {
     "name": "stdout",
     "output_type": "stream",
     "text": [
      "35 125 0 255 6 255\n"
     ]
    },
    {
     "ename": "TypeError",
     "evalue": "empty() takes 0 positional arguments but 1 was given",
     "output_type": "error",
     "traceback": [
      "\u001b[1;31m---------------------------------------------------------------------------\u001b[0m",
      "\u001b[1;31mTypeError\u001b[0m                                 Traceback (most recent call last)",
      "\u001b[1;31mTypeError\u001b[0m: empty() takes 0 positional arguments but 1 was given"
     ]
    },
    {
     "name": "stdout",
     "output_type": "stream",
     "text": [
      "35 124 0 255 6 255\n"
     ]
    },
    {
     "ename": "TypeError",
     "evalue": "empty() takes 0 positional arguments but 1 was given",
     "output_type": "error",
     "traceback": [
      "\u001b[1;31m---------------------------------------------------------------------------\u001b[0m",
      "\u001b[1;31mTypeError\u001b[0m                                 Traceback (most recent call last)",
      "\u001b[1;31mTypeError\u001b[0m: empty() takes 0 positional arguments but 1 was given"
     ]
    },
    {
     "name": "stdout",
     "output_type": "stream",
     "text": [
      "35 118 0 255 6 255\n"
     ]
    },
    {
     "ename": "TypeError",
     "evalue": "empty() takes 0 positional arguments but 1 was given",
     "output_type": "error",
     "traceback": [
      "\u001b[1;31m---------------------------------------------------------------------------\u001b[0m",
      "\u001b[1;31mTypeError\u001b[0m                                 Traceback (most recent call last)",
      "\u001b[1;31mTypeError\u001b[0m: empty() takes 0 positional arguments but 1 was given"
     ]
    },
    {
     "name": "stdout",
     "output_type": "stream",
     "text": [
      "35 117 0 255 6 255\n"
     ]
    },
    {
     "ename": "TypeError",
     "evalue": "empty() takes 0 positional arguments but 1 was given",
     "output_type": "error",
     "traceback": [
      "\u001b[1;31m---------------------------------------------------------------------------\u001b[0m",
      "\u001b[1;31mTypeError\u001b[0m                                 Traceback (most recent call last)",
      "\u001b[1;31mTypeError\u001b[0m: empty() takes 0 positional arguments but 1 was given"
     ]
    },
    {
     "name": "stdout",
     "output_type": "stream",
     "text": [
      "35 113 0 255 6 255\n"
     ]
    },
    {
     "ename": "TypeError",
     "evalue": "empty() takes 0 positional arguments but 1 was given",
     "output_type": "error",
     "traceback": [
      "\u001b[1;31m---------------------------------------------------------------------------\u001b[0m",
      "\u001b[1;31mTypeError\u001b[0m                                 Traceback (most recent call last)",
      "\u001b[1;31mTypeError\u001b[0m: empty() takes 0 positional arguments but 1 was given"
     ]
    },
    {
     "name": "stdout",
     "output_type": "stream",
     "text": [
      "35 111 0 255 6 255\n"
     ]
    },
    {
     "ename": "TypeError",
     "evalue": "empty() takes 0 positional arguments but 1 was given",
     "output_type": "error",
     "traceback": [
      "\u001b[1;31m---------------------------------------------------------------------------\u001b[0m",
      "\u001b[1;31mTypeError\u001b[0m                                 Traceback (most recent call last)",
      "\u001b[1;31mTypeError\u001b[0m: empty() takes 0 positional arguments but 1 was given"
     ]
    },
    {
     "name": "stdout",
     "output_type": "stream",
     "text": [
      "35 106 0 255 6 255\n",
      "35 106 0 255 6 255\n",
      "35 106 0 255 6 255\n",
      "35 106 0 255 6 255\n",
      "35 106 0 255 6 255\n",
      "35 106 0 255 6 255\n",
      "35 106 0 255 6 255\n",
      "35 106 0 255 6 255\n",
      "35 106 0 255 6 255\n",
      "35 106 0 255 6 255\n",
      "35 106 0 255 6 255\n",
      "35 106 0 255 6 255\n",
      "35 106 0 255 6 255\n",
      "35 106 0 255 6 255\n"
     ]
    },
    {
     "ename": "TypeError",
     "evalue": "empty() takes 0 positional arguments but 1 was given",
     "output_type": "error",
     "traceback": [
      "\u001b[1;31m---------------------------------------------------------------------------\u001b[0m",
      "\u001b[1;31mTypeError\u001b[0m                                 Traceback (most recent call last)",
      "\u001b[1;31mTypeError\u001b[0m: empty() takes 0 positional arguments but 1 was given"
     ]
    },
    {
     "name": "stdout",
     "output_type": "stream",
     "text": [
      "35 107 0 255 6 255\n",
      "35 107 0 255 6 255\n"
     ]
    },
    {
     "ename": "TypeError",
     "evalue": "empty() takes 0 positional arguments but 1 was given",
     "output_type": "error",
     "traceback": [
      "\u001b[1;31m---------------------------------------------------------------------------\u001b[0m",
      "\u001b[1;31mTypeError\u001b[0m                                 Traceback (most recent call last)",
      "\u001b[1;31mTypeError\u001b[0m: empty() takes 0 positional arguments but 1 was given"
     ]
    },
    {
     "name": "stdout",
     "output_type": "stream",
     "text": [
      "35 110 0 255 6 255\n",
      "35 110 0 255 6 255\n"
     ]
    },
    {
     "ename": "TypeError",
     "evalue": "empty() takes 0 positional arguments but 1 was given",
     "output_type": "error",
     "traceback": [
      "\u001b[1;31m---------------------------------------------------------------------------\u001b[0m",
      "\u001b[1;31mTypeError\u001b[0m                                 Traceback (most recent call last)",
      "\u001b[1;31mTypeError\u001b[0m: empty() takes 0 positional arguments but 1 was given"
     ]
    },
    {
     "name": "stdout",
     "output_type": "stream",
     "text": [
      "35 111 0 255 6 255\n",
      "35 111 0 255 6 255\n"
     ]
    },
    {
     "ename": "TypeError",
     "evalue": "empty() takes 0 positional arguments but 1 was given",
     "output_type": "error",
     "traceback": [
      "\u001b[1;31m---------------------------------------------------------------------------\u001b[0m",
      "\u001b[1;31mTypeError\u001b[0m                                 Traceback (most recent call last)",
      "\u001b[1;31mTypeError\u001b[0m: empty() takes 0 positional arguments but 1 was given"
     ]
    },
    {
     "name": "stdout",
     "output_type": "stream",
     "text": [
      "35 112 0 255 6 255\n",
      "35 112 0 255 6 255\n",
      "35 112 0 255 6 255\n",
      "35 112 0 255 6 255\n"
     ]
    },
    {
     "ename": "TypeError",
     "evalue": "empty() takes 0 positional arguments but 1 was given",
     "output_type": "error",
     "traceback": [
      "\u001b[1;31m---------------------------------------------------------------------------\u001b[0m",
      "\u001b[1;31mTypeError\u001b[0m                                 Traceback (most recent call last)",
      "\u001b[1;31mTypeError\u001b[0m: empty() takes 0 positional arguments but 1 was given"
     ]
    },
    {
     "name": "stdout",
     "output_type": "stream",
     "text": [
      "35 113 0 255 6 255\n",
      "35 113 0 255 6 255\n",
      "35 113 0 255 6 255\n",
      "35 113 0 255 6 255\n",
      "35 113 0 255 6 255\n",
      "35 113 0 255 6 255\n",
      "35 113 0 255 6 255\n",
      "35 113 0 255 6 255\n",
      "35 113 0 255 6 255\n",
      "35 113 0 255 6 255\n"
     ]
    },
    {
     "ename": "TypeError",
     "evalue": "empty() takes 0 positional arguments but 1 was given",
     "output_type": "error",
     "traceback": [
      "\u001b[1;31m---------------------------------------------------------------------------\u001b[0m",
      "\u001b[1;31mTypeError\u001b[0m                                 Traceback (most recent call last)",
      "\u001b[1;31mTypeError\u001b[0m: empty() takes 0 positional arguments but 1 was given"
     ]
    },
    {
     "name": "stdout",
     "output_type": "stream",
     "text": [
      "35 114 0 255 6 255\n",
      "35 114 0 255 6 255\n"
     ]
    },
    {
     "ename": "TypeError",
     "evalue": "empty() takes 0 positional arguments but 1 was given",
     "output_type": "error",
     "traceback": [
      "\u001b[1;31m---------------------------------------------------------------------------\u001b[0m",
      "\u001b[1;31mTypeError\u001b[0m                                 Traceback (most recent call last)",
      "\u001b[1;31mTypeError\u001b[0m: empty() takes 0 positional arguments but 1 was given"
     ]
    },
    {
     "name": "stdout",
     "output_type": "stream",
     "text": [
      "35 115 0 255 6 255\n",
      "35 115 0 255 6 255\n",
      "35 115 0 255 6 255\n",
      "35 115 0 255 6 255\n",
      "35 115 0 255 6 255\n",
      "35 115 0 255 6 255\n",
      "35 115 0 255 6 255\n",
      "35 115 0 255 6 255\n",
      "35 115 0 255 6 255\n",
      "35 115 0 255 6 255\n"
     ]
    },
    {
     "ename": "TypeError",
     "evalue": "empty() takes 0 positional arguments but 1 was given",
     "output_type": "error",
     "traceback": [
      "\u001b[1;31m---------------------------------------------------------------------------\u001b[0m",
      "\u001b[1;31mTypeError\u001b[0m                                 Traceback (most recent call last)",
      "\u001b[1;31mTypeError\u001b[0m: empty() takes 0 positional arguments but 1 was given"
     ]
    },
    {
     "name": "stdout",
     "output_type": "stream",
     "text": [
      "35 116 0 255 6 255\n",
      "35 116 0 255 6 255\n",
      "35 116 0 255 6 255\n",
      "35 116 0 255 6 255\n",
      "35 116 0 255 6 255\n",
      "35 116 0 255 6 255\n",
      "35 116 0 255 6 255\n",
      "35 116 0 255 6 255\n",
      "35 116 0 255 6 255\n",
      "35 116 0 255 6 255\n",
      "35 116 0 255 6 255\n",
      "35 116 0 255 6 255\n",
      "35 116 0 255 6 255\n",
      "35 116 0 255 6 255\n",
      "35 116 0 255 6 255\n",
      "35 116 0 255 6 255\n",
      "35 116 0 255 6 255\n",
      "35 116 0 255 6 255\n",
      "35 116 0 255 6 255\n",
      "35 116 0 255 6 255\n",
      "35 116 0 255 6 255\n",
      "35 116 0 255 6 255\n",
      "35 116 0 255 6 255\n",
      "35 116 0 255 6 255\n",
      "35 116 0 255 6 255\n",
      "35 116 0 255 6 255\n",
      "35 116 0 255 6 255\n",
      "35 116 0 255 6 255\n",
      "35 116 0 255 6 255\n",
      "35 116 0 255 6 255\n",
      "35 116 0 255 6 255\n",
      "35 116 0 255 6 255\n",
      "35 116 0 255 6 255\n",
      "35 116 0 255 6 255\n",
      "35 116 0 255 6 255\n",
      "35 116 0 255 6 255\n",
      "35 116 0 255 6 255\n",
      "35 116 0 255 6 255\n",
      "35 116 0 255 6 255\n",
      "35 116 0 255 6 255\n",
      "35 116 0 255 6 255\n",
      "35 116 0 255 6 255\n",
      "35 116 0 255 6 255\n",
      "35 116 0 255 6 255\n",
      "35 116 0 255 6 255\n",
      "35 116 0 255 6 255\n",
      "35 116 0 255 6 255\n",
      "35 116 0 255 6 255\n",
      "35 116 0 255 6 255\n",
      "35 116 0 255 6 255\n",
      "35 116 0 255 6 255\n",
      "35 116 0 255 6 255\n",
      "35 116 0 255 6 255\n",
      "35 116 0 255 6 255\n",
      "35 116 0 255 6 255\n",
      "35 116 0 255 6 255\n",
      "35 116 0 255 6 255\n",
      "35 116 0 255 6 255\n",
      "35 116 0 255 6 255\n",
      "35 116 0 255 6 255\n",
      "35 116 0 255 6 255\n",
      "35 116 0 255 6 255\n",
      "35 116 0 255 6 255\n",
      "35 116 0 255 6 255\n",
      "35 116 0 255 6 255\n",
      "35 116 0 255 6 255\n",
      "35 116 0 255 6 255\n",
      "35 116 0 255 6 255\n",
      "35 116 0 255 6 255\n",
      "35 116 0 255 6 255\n",
      "35 116 0 255 6 255\n",
      "35 116 0 255 6 255\n",
      "35 116 0 255 6 255\n",
      "35 116 0 255 6 255\n",
      "35 116 0 255 6 255\n",
      "35 116 0 255 6 255\n",
      "35 116 0 255 6 255\n",
      "35 116 0 255 6 255\n",
      "35 116 0 255 6 255\n",
      "35 116 0 255 6 255\n",
      "35 116 0 255 6 255\n",
      "35 116 0 255 6 255\n",
      "35 116 0 255 6 255\n",
      "35 116 0 255 6 255\n"
     ]
    },
    {
     "ename": "TypeError",
     "evalue": "empty() takes 0 positional arguments but 1 was given",
     "output_type": "error",
     "traceback": [
      "\u001b[1;31m---------------------------------------------------------------------------\u001b[0m",
      "\u001b[1;31mTypeError\u001b[0m                                 Traceback (most recent call last)",
      "\u001b[1;31mTypeError\u001b[0m: empty() takes 0 positional arguments but 1 was given"
     ]
    },
    {
     "name": "stdout",
     "output_type": "stream",
     "text": [
      "36 116 0 255 6 255\n",
      "36 116 0 255 6 255\n"
     ]
    },
    {
     "ename": "TypeError",
     "evalue": "empty() takes 0 positional arguments but 1 was given",
     "output_type": "error",
     "traceback": [
      "\u001b[1;31m---------------------------------------------------------------------------\u001b[0m",
      "\u001b[1;31mTypeError\u001b[0m                                 Traceback (most recent call last)",
      "\u001b[1;31mTypeError\u001b[0m: empty() takes 0 positional arguments but 1 was given"
     ]
    },
    {
     "name": "stdout",
     "output_type": "stream",
     "text": [
      "38 116 0 255 6 255\n",
      "38 116 0 255 6 255\n"
     ]
    },
    {
     "ename": "TypeError",
     "evalue": "empty() takes 0 positional arguments but 1 was given",
     "output_type": "error",
     "traceback": [
      "\u001b[1;31m---------------------------------------------------------------------------\u001b[0m",
      "\u001b[1;31mTypeError\u001b[0m                                 Traceback (most recent call last)",
      "\u001b[1;31mTypeError\u001b[0m: empty() takes 0 positional arguments but 1 was given"
     ]
    },
    {
     "name": "stdout",
     "output_type": "stream",
     "text": [
      "39 116 0 255 6 255\n"
     ]
    },
    {
     "ename": "TypeError",
     "evalue": "empty() takes 0 positional arguments but 1 was given",
     "output_type": "error",
     "traceback": [
      "\u001b[1;31m---------------------------------------------------------------------------\u001b[0m",
      "\u001b[1;31mTypeError\u001b[0m                                 Traceback (most recent call last)",
      "\u001b[1;31mTypeError\u001b[0m: empty() takes 0 positional arguments but 1 was given"
     ]
    },
    {
     "name": "stdout",
     "output_type": "stream",
     "text": [
      "40 116 0 255 6 255\n",
      "40 116 0 255 6 255\n"
     ]
    },
    {
     "ename": "TypeError",
     "evalue": "empty() takes 0 positional arguments but 1 was given",
     "output_type": "error",
     "traceback": [
      "\u001b[1;31m---------------------------------------------------------------------------\u001b[0m",
      "\u001b[1;31mTypeError\u001b[0m                                 Traceback (most recent call last)",
      "\u001b[1;31mTypeError\u001b[0m: empty() takes 0 positional arguments but 1 was given"
     ]
    },
    {
     "name": "stdout",
     "output_type": "stream",
     "text": [
      "41 116 0 255 6 255\n",
      "41 116 0 255 6 255\n"
     ]
    },
    {
     "ename": "TypeError",
     "evalue": "empty() takes 0 positional arguments but 1 was given",
     "output_type": "error",
     "traceback": [
      "\u001b[1;31m---------------------------------------------------------------------------\u001b[0m",
      "\u001b[1;31mTypeError\u001b[0m                                 Traceback (most recent call last)",
      "\u001b[1;31mTypeError\u001b[0m: empty() takes 0 positional arguments but 1 was given"
     ]
    },
    {
     "ename": "TypeError",
     "evalue": "empty() takes 0 positional arguments but 1 was given",
     "output_type": "error",
     "traceback": [
      "\u001b[1;31m---------------------------------------------------------------------------\u001b[0m",
      "\u001b[1;31mTypeError\u001b[0m                                 Traceback (most recent call last)",
      "\u001b[1;31mTypeError\u001b[0m: empty() takes 0 positional arguments but 1 was given"
     ]
    },
    {
     "name": "stdout",
     "output_type": "stream",
     "text": [
      "43 116 0 255 6 255\n",
      "43 116 0 255 6 255\n"
     ]
    },
    {
     "ename": "TypeError",
     "evalue": "empty() takes 0 positional arguments but 1 was given",
     "output_type": "error",
     "traceback": [
      "\u001b[1;31m---------------------------------------------------------------------------\u001b[0m",
      "\u001b[1;31mTypeError\u001b[0m                                 Traceback (most recent call last)",
      "\u001b[1;31mTypeError\u001b[0m: empty() takes 0 positional arguments but 1 was given"
     ]
    },
    {
     "name": "stdout",
     "output_type": "stream",
     "text": [
      "45 116 0 255 6 255\n",
      "45 116 0 255 6 255\n"
     ]
    },
    {
     "ename": "TypeError",
     "evalue": "empty() takes 0 positional arguments but 1 was given",
     "output_type": "error",
     "traceback": [
      "\u001b[1;31m---------------------------------------------------------------------------\u001b[0m",
      "\u001b[1;31mTypeError\u001b[0m                                 Traceback (most recent call last)",
      "\u001b[1;31mTypeError\u001b[0m: empty() takes 0 positional arguments but 1 was given"
     ]
    },
    {
     "name": "stdout",
     "output_type": "stream",
     "text": [
      "46 116 0 255 6 255\n",
      "46 116 0 255 6 255\n"
     ]
    },
    {
     "ename": "TypeError",
     "evalue": "empty() takes 0 positional arguments but 1 was given",
     "output_type": "error",
     "traceback": [
      "\u001b[1;31m---------------------------------------------------------------------------\u001b[0m",
      "\u001b[1;31mTypeError\u001b[0m                                 Traceback (most recent call last)",
      "\u001b[1;31mTypeError\u001b[0m: empty() takes 0 positional arguments but 1 was given"
     ]
    },
    {
     "name": "stdout",
     "output_type": "stream",
     "text": [
      "47 116 0 255 6 255\n"
     ]
    },
    {
     "ename": "TypeError",
     "evalue": "empty() takes 0 positional arguments but 1 was given",
     "output_type": "error",
     "traceback": [
      "\u001b[1;31m---------------------------------------------------------------------------\u001b[0m",
      "\u001b[1;31mTypeError\u001b[0m                                 Traceback (most recent call last)",
      "\u001b[1;31mTypeError\u001b[0m: empty() takes 0 positional arguments but 1 was given"
     ]
    },
    {
     "ename": "TypeError",
     "evalue": "empty() takes 0 positional arguments but 1 was given",
     "output_type": "error",
     "traceback": [
      "\u001b[1;31m---------------------------------------------------------------------------\u001b[0m",
      "\u001b[1;31mTypeError\u001b[0m                                 Traceback (most recent call last)",
      "\u001b[1;31mTypeError\u001b[0m: empty() takes 0 positional arguments but 1 was given"
     ]
    },
    {
     "name": "stdout",
     "output_type": "stream",
     "text": [
      "49 116 0 255 6 255\n",
      "49 116 0 255 6 255\n"
     ]
    },
    {
     "ename": "TypeError",
     "evalue": "empty() takes 0 positional arguments but 1 was given",
     "output_type": "error",
     "traceback": [
      "\u001b[1;31m---------------------------------------------------------------------------\u001b[0m",
      "\u001b[1;31mTypeError\u001b[0m                                 Traceback (most recent call last)",
      "\u001b[1;31mTypeError\u001b[0m: empty() takes 0 positional arguments but 1 was given"
     ]
    },
    {
     "name": "stdout",
     "output_type": "stream",
     "text": [
      "50 116 0 255 6 255\n",
      "50 116 0 255 6 255\n"
     ]
    },
    {
     "ename": "TypeError",
     "evalue": "empty() takes 0 positional arguments but 1 was given",
     "output_type": "error",
     "traceback": [
      "\u001b[1;31m---------------------------------------------------------------------------\u001b[0m",
      "\u001b[1;31mTypeError\u001b[0m                                 Traceback (most recent call last)",
      "\u001b[1;31mTypeError\u001b[0m: empty() takes 0 positional arguments but 1 was given"
     ]
    },
    {
     "name": "stdout",
     "output_type": "stream",
     "text": [
      "51 116 0 255 6 255\n",
      "51 116 0 255 6 255\n",
      "51 116 0 255 6 255\n",
      "51 116 0 255 6 255\n",
      "51 116 0 255 6 255\n",
      "51 116 0 255 6 255\n",
      "51 116 0 255 6 255\n"
     ]
    },
    {
     "ename": "TypeError",
     "evalue": "empty() takes 0 positional arguments but 1 was given",
     "output_type": "error",
     "traceback": [
      "\u001b[1;31m---------------------------------------------------------------------------\u001b[0m",
      "\u001b[1;31mTypeError\u001b[0m                                 Traceback (most recent call last)",
      "\u001b[1;31mTypeError\u001b[0m: empty() takes 0 positional arguments but 1 was given"
     ]
    },
    {
     "name": "stdout",
     "output_type": "stream",
     "text": [
      "52 116 0 255 6 255\n",
      "52 116 0 255 6 255\n",
      "52 116 0 255 6 255\n",
      "52 116 0 255 6 255\n"
     ]
    },
    {
     "ename": "TypeError",
     "evalue": "empty() takes 0 positional arguments but 1 was given",
     "output_type": "error",
     "traceback": [
      "\u001b[1;31m---------------------------------------------------------------------------\u001b[0m",
      "\u001b[1;31mTypeError\u001b[0m                                 Traceback (most recent call last)",
      "\u001b[1;31mTypeError\u001b[0m: empty() takes 0 positional arguments but 1 was given"
     ]
    },
    {
     "name": "stdout",
     "output_type": "stream",
     "text": [
      "53 116 0 255 6 255\n",
      "53 116 0 255 6 255\n"
     ]
    },
    {
     "ename": "TypeError",
     "evalue": "empty() takes 0 positional arguments but 1 was given",
     "output_type": "error",
     "traceback": [
      "\u001b[1;31m---------------------------------------------------------------------------\u001b[0m",
      "\u001b[1;31mTypeError\u001b[0m                                 Traceback (most recent call last)",
      "\u001b[1;31mTypeError\u001b[0m: empty() takes 0 positional arguments but 1 was given"
     ]
    },
    {
     "name": "stdout",
     "output_type": "stream",
     "text": [
      "54 116 0 255 6 255\n"
     ]
    },
    {
     "ename": "TypeError",
     "evalue": "empty() takes 0 positional arguments but 1 was given",
     "output_type": "error",
     "traceback": [
      "\u001b[1;31m---------------------------------------------------------------------------\u001b[0m",
      "\u001b[1;31mTypeError\u001b[0m                                 Traceback (most recent call last)",
      "\u001b[1;31mTypeError\u001b[0m: empty() takes 0 positional arguments but 1 was given"
     ]
    },
    {
     "ename": "TypeError",
     "evalue": "empty() takes 0 positional arguments but 1 was given",
     "output_type": "error",
     "traceback": [
      "\u001b[1;31m---------------------------------------------------------------------------\u001b[0m",
      "\u001b[1;31mTypeError\u001b[0m                                 Traceback (most recent call last)",
      "\u001b[1;31mTypeError\u001b[0m: empty() takes 0 positional arguments but 1 was given"
     ]
    },
    {
     "name": "stdout",
     "output_type": "stream",
     "text": [
      "56 116 0 255 6 255\n"
     ]
    },
    {
     "ename": "TypeError",
     "evalue": "empty() takes 0 positional arguments but 1 was given",
     "output_type": "error",
     "traceback": [
      "\u001b[1;31m---------------------------------------------------------------------------\u001b[0m",
      "\u001b[1;31mTypeError\u001b[0m                                 Traceback (most recent call last)",
      "\u001b[1;31mTypeError\u001b[0m: empty() takes 0 positional arguments but 1 was given"
     ]
    },
    {
     "name": "stdout",
     "output_type": "stream",
     "text": [
      "57 116 0 255 6 255\n",
      "57 116 0 255 6 255\n"
     ]
    },
    {
     "ename": "TypeError",
     "evalue": "empty() takes 0 positional arguments but 1 was given",
     "output_type": "error",
     "traceback": [
      "\u001b[1;31m---------------------------------------------------------------------------\u001b[0m",
      "\u001b[1;31mTypeError\u001b[0m                                 Traceback (most recent call last)",
      "\u001b[1;31mTypeError\u001b[0m: empty() takes 0 positional arguments but 1 was given"
     ]
    },
    {
     "name": "stdout",
     "output_type": "stream",
     "text": [
      "58 116 0 255 6 255\n"
     ]
    },
    {
     "ename": "TypeError",
     "evalue": "empty() takes 0 positional arguments but 1 was given",
     "output_type": "error",
     "traceback": [
      "\u001b[1;31m---------------------------------------------------------------------------\u001b[0m",
      "\u001b[1;31mTypeError\u001b[0m                                 Traceback (most recent call last)",
      "\u001b[1;31mTypeError\u001b[0m: empty() takes 0 positional arguments but 1 was given"
     ]
    },
    {
     "name": "stdout",
     "output_type": "stream",
     "text": [
      "59 116 0 255 6 255\n",
      "59 116 0 255 6 255\n"
     ]
    },
    {
     "ename": "TypeError",
     "evalue": "empty() takes 0 positional arguments but 1 was given",
     "output_type": "error",
     "traceback": [
      "\u001b[1;31m---------------------------------------------------------------------------\u001b[0m",
      "\u001b[1;31mTypeError\u001b[0m                                 Traceback (most recent call last)",
      "\u001b[1;31mTypeError\u001b[0m: empty() takes 0 positional arguments but 1 was given"
     ]
    },
    {
     "name": "stdout",
     "output_type": "stream",
     "text": [
      "58 116 0 255 6 255\n",
      "58 116 0 255 6 255\n",
      "58 116 0 255 6 255\n",
      "58 116 0 255 6 255\n",
      "58 116 0 255 6 255\n",
      "58 116 0 255 6 255\n",
      "58 116 0 255 6 255\n",
      "58 116 0 255 6 255\n",
      "58 116 0 255 6 255\n"
     ]
    },
    {
     "ename": "TypeError",
     "evalue": "empty() takes 0 positional arguments but 1 was given",
     "output_type": "error",
     "traceback": [
      "\u001b[1;31m---------------------------------------------------------------------------\u001b[0m",
      "\u001b[1;31mTypeError\u001b[0m                                 Traceback (most recent call last)",
      "\u001b[1;31mTypeError\u001b[0m: empty() takes 0 positional arguments but 1 was given"
     ]
    },
    {
     "ename": "TypeError",
     "evalue": "empty() takes 0 positional arguments but 1 was given",
     "output_type": "error",
     "traceback": [
      "\u001b[1;31m---------------------------------------------------------------------------\u001b[0m",
      "\u001b[1;31mTypeError\u001b[0m                                 Traceback (most recent call last)",
      "\u001b[1;31mTypeError\u001b[0m: empty() takes 0 positional arguments but 1 was given"
     ]
    },
    {
     "name": "stdout",
     "output_type": "stream",
     "text": [
      "60 116 0 255 6 255\n"
     ]
    },
    {
     "ename": "TypeError",
     "evalue": "empty() takes 0 positional arguments but 1 was given",
     "output_type": "error",
     "traceback": [
      "\u001b[1;31m---------------------------------------------------------------------------\u001b[0m",
      "\u001b[1;31mTypeError\u001b[0m                                 Traceback (most recent call last)",
      "\u001b[1;31mTypeError\u001b[0m: empty() takes 0 positional arguments but 1 was given"
     ]
    },
    {
     "name": "stdout",
     "output_type": "stream",
     "text": [
      "61 116 0 255 6 255\n"
     ]
    },
    {
     "ename": "TypeError",
     "evalue": "empty() takes 0 positional arguments but 1 was given",
     "output_type": "error",
     "traceback": [
      "\u001b[1;31m---------------------------------------------------------------------------\u001b[0m",
      "\u001b[1;31mTypeError\u001b[0m                                 Traceback (most recent call last)",
      "\u001b[1;31mTypeError\u001b[0m: empty() takes 0 positional arguments but 1 was given"
     ]
    },
    {
     "ename": "TypeError",
     "evalue": "empty() takes 0 positional arguments but 1 was given",
     "output_type": "error",
     "traceback": [
      "\u001b[1;31m---------------------------------------------------------------------------\u001b[0m",
      "\u001b[1;31mTypeError\u001b[0m                                 Traceback (most recent call last)",
      "\u001b[1;31mTypeError\u001b[0m: empty() takes 0 positional arguments but 1 was given"
     ]
    },
    {
     "name": "stdout",
     "output_type": "stream",
     "text": [
      "63 116 0 255 6 255\n",
      "63 116 0 255 6 255\n"
     ]
    },
    {
     "ename": "TypeError",
     "evalue": "empty() takes 0 positional arguments but 1 was given",
     "output_type": "error",
     "traceback": [
      "\u001b[1;31m---------------------------------------------------------------------------\u001b[0m",
      "\u001b[1;31mTypeError\u001b[0m                                 Traceback (most recent call last)",
      "\u001b[1;31mTypeError\u001b[0m: empty() takes 0 positional arguments but 1 was given"
     ]
    },
    {
     "name": "stdout",
     "output_type": "stream",
     "text": [
      "64 116 0 255 6 255\n",
      "64 116 0 255 6 255\n"
     ]
    },
    {
     "ename": "TypeError",
     "evalue": "empty() takes 0 positional arguments but 1 was given",
     "output_type": "error",
     "traceback": [
      "\u001b[1;31m---------------------------------------------------------------------------\u001b[0m",
      "\u001b[1;31mTypeError\u001b[0m                                 Traceback (most recent call last)",
      "\u001b[1;31mTypeError\u001b[0m: empty() takes 0 positional arguments but 1 was given"
     ]
    },
    {
     "name": "stdout",
     "output_type": "stream",
     "text": [
      "65 116 0 255 6 255\n",
      "65 116 0 255 6 255\n"
     ]
    },
    {
     "ename": "TypeError",
     "evalue": "empty() takes 0 positional arguments but 1 was given",
     "output_type": "error",
     "traceback": [
      "\u001b[1;31m---------------------------------------------------------------------------\u001b[0m",
      "\u001b[1;31mTypeError\u001b[0m                                 Traceback (most recent call last)",
      "\u001b[1;31mTypeError\u001b[0m: empty() takes 0 positional arguments but 1 was given"
     ]
    },
    {
     "name": "stdout",
     "output_type": "stream",
     "text": [
      "66 116 0 255 6 255\n",
      "66 116 0 255 6 255\n"
     ]
    },
    {
     "ename": "TypeError",
     "evalue": "empty() takes 0 positional arguments but 1 was given",
     "output_type": "error",
     "traceback": [
      "\u001b[1;31m---------------------------------------------------------------------------\u001b[0m",
      "\u001b[1;31mTypeError\u001b[0m                                 Traceback (most recent call last)",
      "\u001b[1;31mTypeError\u001b[0m: empty() takes 0 positional arguments but 1 was given"
     ]
    },
    {
     "name": "stdout",
     "output_type": "stream",
     "text": [
      "67 116 0 255 6 255\n"
     ]
    },
    {
     "ename": "TypeError",
     "evalue": "empty() takes 0 positional arguments but 1 was given",
     "output_type": "error",
     "traceback": [
      "\u001b[1;31m---------------------------------------------------------------------------\u001b[0m",
      "\u001b[1;31mTypeError\u001b[0m                                 Traceback (most recent call last)",
      "\u001b[1;31mTypeError\u001b[0m: empty() takes 0 positional arguments but 1 was given"
     ]
    },
    {
     "ename": "TypeError",
     "evalue": "empty() takes 0 positional arguments but 1 was given",
     "output_type": "error",
     "traceback": [
      "\u001b[1;31m---------------------------------------------------------------------------\u001b[0m",
      "\u001b[1;31mTypeError\u001b[0m                                 Traceback (most recent call last)",
      "\u001b[1;31mTypeError\u001b[0m: empty() takes 0 positional arguments but 1 was given"
     ]
    },
    {
     "name": "stdout",
     "output_type": "stream",
     "text": [
      "70 116 0 255 6 255\n",
      "70 116 0 255 6 255\n",
      "70 116 0 255 6 255\n"
     ]
    },
    {
     "ename": "TypeError",
     "evalue": "empty() takes 0 positional arguments but 1 was given",
     "output_type": "error",
     "traceback": [
      "\u001b[1;31m---------------------------------------------------------------------------\u001b[0m",
      "\u001b[1;31mTypeError\u001b[0m                                 Traceback (most recent call last)",
      "\u001b[1;31mTypeError\u001b[0m: empty() takes 0 positional arguments but 1 was given"
     ]
    },
    {
     "name": "stdout",
     "output_type": "stream",
     "text": [
      "71 116 0 255 6 255\n",
      "71 116 0 255 6 255\n",
      "71 116 0 255 6 255\n"
     ]
    },
    {
     "ename": "TypeError",
     "evalue": "empty() takes 0 positional arguments but 1 was given",
     "output_type": "error",
     "traceback": [
      "\u001b[1;31m---------------------------------------------------------------------------\u001b[0m",
      "\u001b[1;31mTypeError\u001b[0m                                 Traceback (most recent call last)",
      "\u001b[1;31mTypeError\u001b[0m: empty() takes 0 positional arguments but 1 was given"
     ]
    },
    {
     "name": "stdout",
     "output_type": "stream",
     "text": [
      "72 116 0 255 6 255\n",
      "72 116 0 255 6 255\n",
      "72 116 0 255 6 255\n",
      "72 116 0 255 6 255\n",
      "72 116 0 255 6 255\n",
      "72 116 0 255 6 255\n",
      "72 116 0 255 6 255\n",
      "72 116 0 255 6 255\n",
      "72 116 0 255 6 255\n",
      "72 116 0 255 6 255\n",
      "72 116 0 255 6 255\n",
      "72 116 0 255 6 255\n",
      "72 116 0 255 6 255\n",
      "72 116 0 255 6 255\n",
      "72 116 0 255 6 255\n",
      "72 116 0 255 6 255\n"
     ]
    },
    {
     "ename": "TypeError",
     "evalue": "empty() takes 0 positional arguments but 1 was given",
     "output_type": "error",
     "traceback": [
      "\u001b[1;31m---------------------------------------------------------------------------\u001b[0m",
      "\u001b[1;31mTypeError\u001b[0m                                 Traceback (most recent call last)",
      "\u001b[1;31mTypeError\u001b[0m: empty() takes 0 positional arguments but 1 was given"
     ]
    },
    {
     "name": "stdout",
     "output_type": "stream",
     "text": [
      "74 116 0 255 6 255\n"
     ]
    },
    {
     "ename": "TypeError",
     "evalue": "empty() takes 0 positional arguments but 1 was given",
     "output_type": "error",
     "traceback": [
      "\u001b[1;31m---------------------------------------------------------------------------\u001b[0m",
      "\u001b[1;31mTypeError\u001b[0m                                 Traceback (most recent call last)",
      "\u001b[1;31mTypeError\u001b[0m: empty() takes 0 positional arguments but 1 was given"
     ]
    },
    {
     "name": "stdout",
     "output_type": "stream",
     "text": [
      "75 116 0 255 6 255\n"
     ]
    },
    {
     "ename": "TypeError",
     "evalue": "empty() takes 0 positional arguments but 1 was given",
     "output_type": "error",
     "traceback": [
      "\u001b[1;31m---------------------------------------------------------------------------\u001b[0m",
      "\u001b[1;31mTypeError\u001b[0m                                 Traceback (most recent call last)",
      "\u001b[1;31mTypeError\u001b[0m: empty() takes 0 positional arguments but 1 was given"
     ]
    },
    {
     "ename": "TypeError",
     "evalue": "empty() takes 0 positional arguments but 1 was given",
     "output_type": "error",
     "traceback": [
      "\u001b[1;31m---------------------------------------------------------------------------\u001b[0m",
      "\u001b[1;31mTypeError\u001b[0m                                 Traceback (most recent call last)",
      "\u001b[1;31mTypeError\u001b[0m: empty() takes 0 positional arguments but 1 was given"
     ]
    },
    {
     "name": "stdout",
     "output_type": "stream",
     "text": [
      "78 116 0 255 6 255\n",
      "78 116 0 255 6 255\n"
     ]
    },
    {
     "ename": "TypeError",
     "evalue": "empty() takes 0 positional arguments but 1 was given",
     "output_type": "error",
     "traceback": [
      "\u001b[1;31m---------------------------------------------------------------------------\u001b[0m",
      "\u001b[1;31mTypeError\u001b[0m                                 Traceback (most recent call last)",
      "\u001b[1;31mTypeError\u001b[0m: empty() takes 0 positional arguments but 1 was given"
     ]
    },
    {
     "name": "stdout",
     "output_type": "stream",
     "text": [
      "80 116 0 255 6 255\n",
      "80 116 0 255 6 255\n"
     ]
    },
    {
     "ename": "TypeError",
     "evalue": "empty() takes 0 positional arguments but 1 was given",
     "output_type": "error",
     "traceback": [
      "\u001b[1;31m---------------------------------------------------------------------------\u001b[0m",
      "\u001b[1;31mTypeError\u001b[0m                                 Traceback (most recent call last)",
      "\u001b[1;31mTypeError\u001b[0m: empty() takes 0 positional arguments but 1 was given"
     ]
    },
    {
     "name": "stdout",
     "output_type": "stream",
     "text": [
      "81 116 0 255 6 255\n",
      "81 116 0 255 6 255\n"
     ]
    },
    {
     "ename": "TypeError",
     "evalue": "empty() takes 0 positional arguments but 1 was given",
     "output_type": "error",
     "traceback": [
      "\u001b[1;31m---------------------------------------------------------------------------\u001b[0m",
      "\u001b[1;31mTypeError\u001b[0m                                 Traceback (most recent call last)",
      "\u001b[1;31mTypeError\u001b[0m: empty() takes 0 positional arguments but 1 was given"
     ]
    },
    {
     "name": "stdout",
     "output_type": "stream",
     "text": [
      "82 116 0 255 6 255\n"
     ]
    },
    {
     "ename": "TypeError",
     "evalue": "empty() takes 0 positional arguments but 1 was given",
     "output_type": "error",
     "traceback": [
      "\u001b[1;31m---------------------------------------------------------------------------\u001b[0m",
      "\u001b[1;31mTypeError\u001b[0m                                 Traceback (most recent call last)",
      "\u001b[1;31mTypeError\u001b[0m: empty() takes 0 positional arguments but 1 was given"
     ]
    },
    {
     "name": "stdout",
     "output_type": "stream",
     "text": [
      "83 116 0 255 6 255\n"
     ]
    },
    {
     "ename": "TypeError",
     "evalue": "empty() takes 0 positional arguments but 1 was given",
     "output_type": "error",
     "traceback": [
      "\u001b[1;31m---------------------------------------------------------------------------\u001b[0m",
      "\u001b[1;31mTypeError\u001b[0m                                 Traceback (most recent call last)",
      "\u001b[1;31mTypeError\u001b[0m: empty() takes 0 positional arguments but 1 was given"
     ]
    },
    {
     "name": "stdout",
     "output_type": "stream",
     "text": [
      "84 116 0 255 6 255\n",
      "84 116 0 255 6 255\n"
     ]
    },
    {
     "ename": "TypeError",
     "evalue": "empty() takes 0 positional arguments but 1 was given",
     "output_type": "error",
     "traceback": [
      "\u001b[1;31m---------------------------------------------------------------------------\u001b[0m",
      "\u001b[1;31mTypeError\u001b[0m                                 Traceback (most recent call last)",
      "\u001b[1;31mTypeError\u001b[0m: empty() takes 0 positional arguments but 1 was given"
     ]
    },
    {
     "name": "stdout",
     "output_type": "stream",
     "text": [
      "86 116 0 255 6 255\n",
      "86 116 0 255 6 255\n",
      "86 116 0 255 6 255\n",
      "86 116 0 255 6 255\n",
      "86 116 0 255 6 255\n",
      "86 116 0 255 6 255\n"
     ]
    },
    {
     "ename": "TypeError",
     "evalue": "empty() takes 0 positional arguments but 1 was given",
     "output_type": "error",
     "traceback": [
      "\u001b[1;31m---------------------------------------------------------------------------\u001b[0m",
      "\u001b[1;31mTypeError\u001b[0m                                 Traceback (most recent call last)",
      "\u001b[1;31mTypeError\u001b[0m: empty() takes 0 positional arguments but 1 was given"
     ]
    },
    {
     "name": "stdout",
     "output_type": "stream",
     "text": [
      "87 116 0 255 6 255\n",
      "87 116 0 255 6 255\n",
      "87 116 0 255 6 255\n",
      "87 116 0 255 6 255\n",
      "87 116 0 255 6 255\n",
      "87 116 0 255 6 255\n",
      "87 116 0 255 6 255\n",
      "87 116 0 255 6 255\n",
      "87 116 0 255 6 255\n",
      "87 116 0 255 6 255\n",
      "87 116 0 255 6 255\n",
      "87 116 0 255 6 255\n",
      "87 116 0 255 6 255\n",
      "87 116 0 255 6 255\n",
      "87 116 0 255 6 255\n",
      "87 116 0 255 6 255\n",
      "87 116 0 255 6 255\n",
      "87 116 0 255 6 255\n"
     ]
    },
    {
     "ename": "TypeError",
     "evalue": "empty() takes 0 positional arguments but 1 was given",
     "output_type": "error",
     "traceback": [
      "\u001b[1;31m---------------------------------------------------------------------------\u001b[0m",
      "\u001b[1;31mTypeError\u001b[0m                                 Traceback (most recent call last)",
      "\u001b[1;31mTypeError\u001b[0m: empty() takes 0 positional arguments but 1 was given"
     ]
    },
    {
     "ename": "TypeError",
     "evalue": "empty() takes 0 positional arguments but 1 was given",
     "output_type": "error",
     "traceback": [
      "\u001b[1;31m---------------------------------------------------------------------------\u001b[0m",
      "\u001b[1;31mTypeError\u001b[0m                                 Traceback (most recent call last)",
      "\u001b[1;31mTypeError\u001b[0m: empty() takes 0 positional arguments but 1 was given"
     ]
    },
    {
     "name": "stdout",
     "output_type": "stream",
     "text": [
      "91 116 0 255 6 255\n",
      "91 116 0 255 6 255\n"
     ]
    },
    {
     "ename": "TypeError",
     "evalue": "empty() takes 0 positional arguments but 1 was given",
     "output_type": "error",
     "traceback": [
      "\u001b[1;31m---------------------------------------------------------------------------\u001b[0m",
      "\u001b[1;31mTypeError\u001b[0m                                 Traceback (most recent call last)",
      "\u001b[1;31mTypeError\u001b[0m: empty() takes 0 positional arguments but 1 was given"
     ]
    },
    {
     "name": "stdout",
     "output_type": "stream",
     "text": [
      "93 116 0 255 6 255\n",
      "93 116 0 255 6 255\n"
     ]
    },
    {
     "ename": "TypeError",
     "evalue": "empty() takes 0 positional arguments but 1 was given",
     "output_type": "error",
     "traceback": [
      "\u001b[1;31m---------------------------------------------------------------------------\u001b[0m",
      "\u001b[1;31mTypeError\u001b[0m                                 Traceback (most recent call last)",
      "\u001b[1;31mTypeError\u001b[0m: empty() takes 0 positional arguments but 1 was given"
     ]
    },
    {
     "name": "stdout",
     "output_type": "stream",
     "text": [
      "95 116 0 255 6 255\n",
      "95 116 0 255 6 255\n"
     ]
    },
    {
     "ename": "TypeError",
     "evalue": "empty() takes 0 positional arguments but 1 was given",
     "output_type": "error",
     "traceback": [
      "\u001b[1;31m---------------------------------------------------------------------------\u001b[0m",
      "\u001b[1;31mTypeError\u001b[0m                                 Traceback (most recent call last)",
      "\u001b[1;31mTypeError\u001b[0m: empty() takes 0 positional arguments but 1 was given"
     ]
    },
    {
     "name": "stdout",
     "output_type": "stream",
     "text": [
      "96 116 0 255 6 255\n",
      "96 116 0 255 6 255\n"
     ]
    },
    {
     "ename": "TypeError",
     "evalue": "empty() takes 0 positional arguments but 1 was given",
     "output_type": "error",
     "traceback": [
      "\u001b[1;31m---------------------------------------------------------------------------\u001b[0m",
      "\u001b[1;31mTypeError\u001b[0m                                 Traceback (most recent call last)",
      "\u001b[1;31mTypeError\u001b[0m: empty() takes 0 positional arguments but 1 was given"
     ]
    },
    {
     "name": "stdout",
     "output_type": "stream",
     "text": [
      "97 116 0 255 6 255\n",
      "97 116 0 255 6 255\n",
      "97 116 0 255 6 255\n",
      "97 116 0 255 6 255\n"
     ]
    },
    {
     "ename": "TypeError",
     "evalue": "empty() takes 0 positional arguments but 1 was given",
     "output_type": "error",
     "traceback": [
      "\u001b[1;31m---------------------------------------------------------------------------\u001b[0m",
      "\u001b[1;31mTypeError\u001b[0m                                 Traceback (most recent call last)",
      "\u001b[1;31mTypeError\u001b[0m: empty() takes 0 positional arguments but 1 was given"
     ]
    },
    {
     "name": "stdout",
     "output_type": "stream",
     "text": [
      "99 116 0 255 6 255\n",
      "99 116 0 255 6 255\n",
      "99 116 0 255 6 255\n",
      "99 116 0 255 6 255\n",
      "99 116 0 255 6 255\n",
      "99 116 0 255 6 255\n",
      "99 116 0 255 6 255\n",
      "99 116 0 255 6 255\n",
      "99 116 0 255 6 255\n",
      "99 116 0 255 6 255\n",
      "99 116 0 255 6 255\n",
      "99 116 0 255 6 255\n"
     ]
    },
    {
     "ename": "TypeError",
     "evalue": "empty() takes 0 positional arguments but 1 was given",
     "output_type": "error",
     "traceback": [
      "\u001b[1;31m---------------------------------------------------------------------------\u001b[0m",
      "\u001b[1;31mTypeError\u001b[0m                                 Traceback (most recent call last)",
      "\u001b[1;31mTypeError\u001b[0m: empty() takes 0 positional arguments but 1 was given"
     ]
    },
    {
     "name": "stdout",
     "output_type": "stream",
     "text": [
      "100 116 0 255 6 255\n",
      "100 116 0 255 6 255\n",
      "100 116 0 255 6 255\n",
      "100 116 0 255 6 255\n",
      "100 116 0 255 6 255\n",
      "100 116 0 255 6 255\n"
     ]
    },
    {
     "ename": "TypeError",
     "evalue": "empty() takes 0 positional arguments but 1 was given",
     "output_type": "error",
     "traceback": [
      "\u001b[1;31m---------------------------------------------------------------------------\u001b[0m",
      "\u001b[1;31mTypeError\u001b[0m                                 Traceback (most recent call last)",
      "\u001b[1;31mTypeError\u001b[0m: empty() takes 0 positional arguments but 1 was given"
     ]
    },
    {
     "name": "stdout",
     "output_type": "stream",
     "text": [
      "102 116 0 255 6 255\n",
      "102 116 0 255 6 255\n",
      "102 116 0 255 6 255\n",
      "102 116 0 255 6 255\n",
      "102 116 0 255 6 255\n",
      "102 116 0 255 6 255\n",
      "102 116 0 255 6 255\n",
      "102 116 0 255 6 255\n",
      "102 116 0 255 6 255\n",
      "102 116 0 255 6 255\n",
      "102 116 0 255 6 255\n",
      "102 116 0 255 6 255\n",
      "102 116 0 255 6 255\n",
      "102 116 0 255 6 255\n",
      "102 116 0 255 6 255\n",
      "102 116 0 255 6 255\n"
     ]
    },
    {
     "ename": "TypeError",
     "evalue": "empty() takes 0 positional arguments but 1 was given",
     "output_type": "error",
     "traceback": [
      "\u001b[1;31m---------------------------------------------------------------------------\u001b[0m",
      "\u001b[1;31mTypeError\u001b[0m                                 Traceback (most recent call last)",
      "\u001b[1;31mTypeError\u001b[0m: empty() takes 0 positional arguments but 1 was given"
     ]
    },
    {
     "ename": "TypeError",
     "evalue": "empty() takes 0 positional arguments but 1 was given",
     "output_type": "error",
     "traceback": [
      "\u001b[1;31m---------------------------------------------------------------------------\u001b[0m",
      "\u001b[1;31mTypeError\u001b[0m                                 Traceback (most recent call last)",
      "\u001b[1;31mTypeError\u001b[0m: empty() takes 0 positional arguments but 1 was given"
     ]
    },
    {
     "name": "stdout",
     "output_type": "stream",
     "text": [
      "104 116 0 255 6 255\n"
     ]
    },
    {
     "ename": "TypeError",
     "evalue": "empty() takes 0 positional arguments but 1 was given",
     "output_type": "error",
     "traceback": [
      "\u001b[1;31m---------------------------------------------------------------------------\u001b[0m",
      "\u001b[1;31mTypeError\u001b[0m                                 Traceback (most recent call last)",
      "\u001b[1;31mTypeError\u001b[0m: empty() takes 0 positional arguments but 1 was given"
     ]
    },
    {
     "name": "stdout",
     "output_type": "stream",
     "text": [
      "105 116 0 255 6 255\n"
     ]
    },
    {
     "ename": "TypeError",
     "evalue": "empty() takes 0 positional arguments but 1 was given",
     "output_type": "error",
     "traceback": [
      "\u001b[1;31m---------------------------------------------------------------------------\u001b[0m",
      "\u001b[1;31mTypeError\u001b[0m                                 Traceback (most recent call last)",
      "\u001b[1;31mTypeError\u001b[0m: empty() takes 0 positional arguments but 1 was given"
     ]
    },
    {
     "name": "stdout",
     "output_type": "stream",
     "text": [
      "107 116 0 255 6 255\n"
     ]
    },
    {
     "ename": "TypeError",
     "evalue": "empty() takes 0 positional arguments but 1 was given",
     "output_type": "error",
     "traceback": [
      "\u001b[1;31m---------------------------------------------------------------------------\u001b[0m",
      "\u001b[1;31mTypeError\u001b[0m                                 Traceback (most recent call last)",
      "\u001b[1;31mTypeError\u001b[0m: empty() takes 0 positional arguments but 1 was given"
     ]
    },
    {
     "name": "stdout",
     "output_type": "stream",
     "text": [
      "108 116 0 255 6 255\n"
     ]
    },
    {
     "ename": "TypeError",
     "evalue": "empty() takes 0 positional arguments but 1 was given",
     "output_type": "error",
     "traceback": [
      "\u001b[1;31m---------------------------------------------------------------------------\u001b[0m",
      "\u001b[1;31mTypeError\u001b[0m                                 Traceback (most recent call last)",
      "\u001b[1;31mTypeError\u001b[0m: empty() takes 0 positional arguments but 1 was given"
     ]
    },
    {
     "name": "stdout",
     "output_type": "stream",
     "text": [
      "109 116 0 255 6 255\n",
      "109 116 0 255 6 255\n"
     ]
    },
    {
     "ename": "TypeError",
     "evalue": "empty() takes 0 positional arguments but 1 was given",
     "output_type": "error",
     "traceback": [
      "\u001b[1;31m---------------------------------------------------------------------------\u001b[0m",
      "\u001b[1;31mTypeError\u001b[0m                                 Traceback (most recent call last)",
      "\u001b[1;31mTypeError\u001b[0m: empty() takes 0 positional arguments but 1 was given"
     ]
    },
    {
     "name": "stdout",
     "output_type": "stream",
     "text": [
      "110 116 0 255 6 255\n",
      "110 116 0 255 6 255\n"
     ]
    },
    {
     "ename": "TypeError",
     "evalue": "empty() takes 0 positional arguments but 1 was given",
     "output_type": "error",
     "traceback": [
      "\u001b[1;31m---------------------------------------------------------------------------\u001b[0m",
      "\u001b[1;31mTypeError\u001b[0m                                 Traceback (most recent call last)",
      "\u001b[1;31mTypeError\u001b[0m: empty() takes 0 positional arguments but 1 was given"
     ]
    },
    {
     "name": "stdout",
     "output_type": "stream",
     "text": [
      "111 116 0 255 6 255\n",
      "111 116 0 255 6 255\n",
      "111 116 0 255 6 255\n",
      "111 116 0 255 6 255\n",
      "111 116 0 255 6 255\n",
      "111 116 0 255 6 255\n",
      "111 116 0 255 6 255\n",
      "111 116 0 255 6 255\n",
      "111 116 0 255 6 255\n",
      "111 116 0 255 6 255\n",
      "111 116 0 255 6 255\n",
      "111 116 0 255 6 255\n",
      "111 116 0 255 6 255\n",
      "111 116 0 255 6 255\n",
      "111 116 0 255 6 255\n",
      "111 116 0 255 6 255\n"
     ]
    },
    {
     "ename": "TypeError",
     "evalue": "empty() takes 0 positional arguments but 1 was given",
     "output_type": "error",
     "traceback": [
      "\u001b[1;31m---------------------------------------------------------------------------\u001b[0m",
      "\u001b[1;31mTypeError\u001b[0m                                 Traceback (most recent call last)",
      "\u001b[1;31mTypeError\u001b[0m: empty() takes 0 positional arguments but 1 was given"
     ]
    },
    {
     "name": "stdout",
     "output_type": "stream",
     "text": [
      "110 116 0 255 6 255\n",
      "110 116 0 255 6 255\n",
      "110 116 0 255 6 255\n",
      "110 116 0 255 6 255\n"
     ]
    },
    {
     "ename": "TypeError",
     "evalue": "empty() takes 0 positional arguments but 1 was given",
     "output_type": "error",
     "traceback": [
      "\u001b[1;31m---------------------------------------------------------------------------\u001b[0m",
      "\u001b[1;31mTypeError\u001b[0m                                 Traceback (most recent call last)",
      "\u001b[1;31mTypeError\u001b[0m: empty() takes 0 positional arguments but 1 was given"
     ]
    },
    {
     "name": "stdout",
     "output_type": "stream",
     "text": [
      "109 116 0 255 6 255\n",
      "109 116 0 255 6 255\n"
     ]
    },
    {
     "ename": "TypeError",
     "evalue": "empty() takes 0 positional arguments but 1 was given",
     "output_type": "error",
     "traceback": [
      "\u001b[1;31m---------------------------------------------------------------------------\u001b[0m",
      "\u001b[1;31mTypeError\u001b[0m                                 Traceback (most recent call last)",
      "\u001b[1;31mTypeError\u001b[0m: empty() takes 0 positional arguments but 1 was given"
     ]
    },
    {
     "name": "stdout",
     "output_type": "stream",
     "text": [
      "108 116 0 255 6 255\n",
      "108 116 0 255 6 255\n"
     ]
    },
    {
     "ename": "TypeError",
     "evalue": "empty() takes 0 positional arguments but 1 was given",
     "output_type": "error",
     "traceback": [
      "\u001b[1;31m---------------------------------------------------------------------------\u001b[0m",
      "\u001b[1;31mTypeError\u001b[0m                                 Traceback (most recent call last)",
      "\u001b[1;31mTypeError\u001b[0m: empty() takes 0 positional arguments but 1 was given"
     ]
    },
    {
     "name": "stdout",
     "output_type": "stream",
     "text": [
      "107 116 0 255 6 255\n",
      "107 116 0 255 6 255\n",
      "107 116 0 255 6 255\n",
      "107 116 0 255 6 255\n",
      "107 116 0 255 6 255\n",
      "107 116 0 255 6 255\n",
      "107 116 0 255 6 255\n",
      "107 116 0 255 6 255\n",
      "107 116 0 255 6 255\n",
      "107 116 0 255 6 255\n",
      "107 116 0 255 6 255\n",
      "107 116 0 255 6 255\n",
      "107 116 0 255 6 255\n",
      "107 116 0 255 6 255\n",
      "107 116 0 255 6 255\n",
      "107 116 0 255 6 255\n",
      "107 116 0 255 6 255\n",
      "107 116 0 255 6 255\n",
      "107 116 0 255 6 255\n",
      "107 116 0 255 6 255\n",
      "107 116 0 255 6 255\n",
      "107 116 0 255 6 255\n",
      "107 116 0 255 6 255\n",
      "107 116 0 255 6 255\n",
      "107 116 0 255 6 255\n",
      "107 116 0 255 6 255\n",
      "107 116 0 255 6 255\n",
      "107 116 0 255 6 255\n",
      "107 116 0 255 6 255\n",
      "107 116 0 255 6 255\n",
      "107 116 0 255 6 255\n",
      "107 116 0 255 6 255\n",
      "107 116 0 255 6 255\n",
      "107 116 0 255 6 255\n",
      "107 116 0 255 6 255\n",
      "107 116 0 255 6 255\n",
      "107 116 0 255 6 255\n",
      "107 116 0 255 6 255\n",
      "107 116 0 255 6 255\n",
      "107 116 0 255 6 255\n",
      "107 116 0 255 6 255\n",
      "107 116 0 255 6 255\n",
      "107 116 0 255 6 255\n",
      "107 116 0 255 6 255\n",
      "107 116 0 255 6 255\n",
      "107 116 0 255 6 255\n",
      "107 116 0 255 6 255\n",
      "107 116 0 255 6 255\n",
      "107 116 0 255 6 255\n",
      "107 116 0 255 6 255\n",
      "107 116 0 255 6 255\n",
      "107 116 0 255 6 255\n",
      "107 116 0 255 6 255\n",
      "107 116 0 255 6 255\n",
      "107 116 0 255 6 255\n",
      "107 116 0 255 6 255\n",
      "107 116 0 255 6 255\n",
      "107 116 0 255 6 255\n",
      "107 116 0 255 6 255\n",
      "107 116 0 255 6 255\n",
      "107 116 0 255 6 255\n",
      "107 116 0 255 6 255\n",
      "107 116 0 255 6 255\n",
      "107 116 0 255 6 255\n",
      "107 116 0 255 6 255\n",
      "107 116 0 255 6 255\n",
      "107 116 0 255 6 255\n",
      "107 116 0 255 6 255\n",
      "107 116 0 255 6 255\n",
      "107 116 0 255 6 255\n",
      "107 116 0 255 6 255\n",
      "107 116 0 255 6 255\n",
      "107 116 0 255 6 255\n",
      "107 116 0 255 6 255\n",
      "107 116 0 255 6 255\n",
      "107 116 0 255 6 255\n",
      "107 116 0 255 6 255\n",
      "107 116 0 255 6 255\n",
      "107 116 0 255 6 255\n",
      "107 116 0 255 6 255\n",
      "107 116 0 255 6 255\n",
      "107 116 0 255 6 255\n",
      "107 116 0 255 6 255\n",
      "107 116 0 255 6 255\n",
      "107 116 0 255 6 255\n",
      "107 116 0 255 6 255\n",
      "107 116 0 255 6 255\n",
      "107 116 0 255 6 255\n",
      "107 116 0 255 6 255\n",
      "107 116 0 255 6 255\n",
      "107 116 0 255 6 255\n",
      "107 116 0 255 6 255\n",
      "107 116 0 255 6 255\n",
      "107 116 0 255 6 255\n",
      "107 116 0 255 6 255\n",
      "107 116 0 255 6 255\n",
      "107 116 0 255 6 255\n",
      "107 116 0 255 6 255\n",
      "107 116 0 255 6 255\n",
      "107 116 0 255 6 255\n",
      "107 116 0 255 6 255\n",
      "107 116 0 255 6 255\n",
      "107 116 0 255 6 255\n",
      "107 116 0 255 6 255\n",
      "107 116 0 255 6 255\n",
      "107 116 0 255 6 255\n",
      "107 116 0 255 6 255\n",
      "107 116 0 255 6 255\n",
      "107 116 0 255 6 255\n",
      "107 116 0 255 6 255\n",
      "107 116 0 255 6 255\n",
      "107 116 0 255 6 255\n",
      "107 116 0 255 6 255\n",
      "107 116 0 255 6 255\n",
      "107 116 0 255 6 255\n",
      "107 116 0 255 6 255\n",
      "107 116 0 255 6 255\n",
      "107 116 0 255 6 255\n",
      "107 116 0 255 6 255\n",
      "107 116 0 255 6 255\n",
      "107 116 0 255 6 255\n",
      "107 116 0 255 6 255\n",
      "107 116 0 255 6 255\n",
      "107 116 0 255 6 255\n",
      "107 116 0 255 6 255\n",
      "107 116 0 255 6 255\n",
      "107 116 0 255 6 255\n",
      "107 116 0 255 6 255\n",
      "107 116 0 255 6 255\n",
      "107 116 0 255 6 255\n",
      "107 116 0 255 6 255\n",
      "107 116 0 255 6 255\n",
      "107 116 0 255 6 255\n",
      "107 116 0 255 6 255\n",
      "107 116 0 255 6 255\n",
      "107 116 0 255 6 255\n",
      "107 116 0 255 6 255\n",
      "107 116 0 255 6 255\n",
      "107 116 0 255 6 255\n",
      "107 116 0 255 6 255\n",
      "107 116 0 255 6 255\n",
      "107 116 0 255 6 255\n",
      "107 116 0 255 6 255\n",
      "107 116 0 255 6 255\n",
      "107 116 0 255 6 255\n",
      "107 116 0 255 6 255\n",
      "107 116 0 255 6 255\n",
      "107 116 0 255 6 255\n",
      "107 116 0 255 6 255\n",
      "107 116 0 255 6 255\n",
      "107 116 0 255 6 255\n",
      "107 116 0 255 6 255\n",
      "107 116 0 255 6 255\n",
      "107 116 0 255 6 255\n",
      "107 116 0 255 6 255\n",
      "107 116 0 255 6 255\n",
      "107 116 0 255 6 255\n",
      "107 116 0 255 6 255\n",
      "107 116 0 255 6 255\n",
      "107 116 0 255 6 255\n",
      "107 116 0 255 6 255\n",
      "107 116 0 255 6 255\n",
      "107 116 0 255 6 255\n",
      "107 116 0 255 6 255\n",
      "107 116 0 255 6 255\n",
      "107 116 0 255 6 255\n",
      "107 116 0 255 6 255\n",
      "107 116 0 255 6 255\n",
      "107 116 0 255 6 255\n",
      "107 116 0 255 6 255\n",
      "107 116 0 255 6 255\n",
      "107 116 0 255 6 255\n",
      "107 116 0 255 6 255\n",
      "107 116 0 255 6 255\n",
      "107 116 0 255 6 255\n",
      "107 116 0 255 6 255\n",
      "107 116 0 255 6 255\n",
      "107 116 0 255 6 255\n",
      "107 116 0 255 6 255\n",
      "107 116 0 255 6 255\n",
      "107 116 0 255 6 255\n",
      "107 116 0 255 6 255\n",
      "107 116 0 255 6 255\n",
      "107 116 0 255 6 255\n",
      "107 116 0 255 6 255\n",
      "107 116 0 255 6 255\n",
      "107 116 0 255 6 255\n",
      "107 116 0 255 6 255\n",
      "107 116 0 255 6 255\n",
      "107 116 0 255 6 255\n",
      "107 116 0 255 6 255\n",
      "107 116 0 255 6 255\n",
      "107 116 0 255 6 255\n",
      "107 116 0 255 6 255\n",
      "107 116 0 255 6 255\n",
      "107 116 0 255 6 255\n",
      "107 116 0 255 6 255\n",
      "107 116 0 255 6 255\n",
      "107 116 0 255 6 255\n",
      "107 116 0 255 6 255\n",
      "107 116 0 255 6 255\n",
      "107 116 0 255 6 255\n",
      "107 116 0 255 6 255\n",
      "107 116 0 255 6 255\n",
      "107 116 0 255 6 255\n",
      "107 116 0 255 6 255\n",
      "107 116 0 255 6 255\n",
      "107 116 0 255 6 255\n",
      "107 116 0 255 6 255\n",
      "107 116 0 255 6 255\n",
      "107 116 0 255 6 255\n",
      "107 116 0 255 6 255\n",
      "107 116 0 255 6 255\n",
      "107 116 0 255 6 255\n",
      "107 116 0 255 6 255\n",
      "107 116 0 255 6 255\n",
      "107 116 0 255 6 255\n",
      "107 116 0 255 6 255\n",
      "107 116 0 255 6 255\n",
      "107 116 0 255 6 255\n",
      "107 116 0 255 6 255\n",
      "107 116 0 255 6 255\n",
      "107 116 0 255 6 255\n",
      "107 116 0 255 6 255\n",
      "107 116 0 255 6 255\n",
      "107 116 0 255 6 255\n"
     ]
    },
    {
     "ename": "TypeError",
     "evalue": "empty() takes 0 positional arguments but 1 was given",
     "output_type": "error",
     "traceback": [
      "\u001b[1;31m---------------------------------------------------------------------------\u001b[0m",
      "\u001b[1;31mTypeError\u001b[0m                                 Traceback (most recent call last)",
      "\u001b[1;31mTypeError\u001b[0m: empty() takes 0 positional arguments but 1 was given"
     ]
    },
    {
     "name": "stdout",
     "output_type": "stream",
     "text": [
      "107 116 2 255 6 255\n",
      "107 116 2 255 6 255\n"
     ]
    },
    {
     "ename": "TypeError",
     "evalue": "empty() takes 0 positional arguments but 1 was given",
     "output_type": "error",
     "traceback": [
      "\u001b[1;31m---------------------------------------------------------------------------\u001b[0m",
      "\u001b[1;31mTypeError\u001b[0m                                 Traceback (most recent call last)",
      "\u001b[1;31mTypeError\u001b[0m: empty() takes 0 positional arguments but 1 was given"
     ]
    },
    {
     "name": "stdout",
     "output_type": "stream",
     "text": [
      "107 116 3 255 6 255\n",
      "107 116 3 255 6 255\n",
      "107 116 3 255 6 255\n",
      "107 116 3 255 6 255\n"
     ]
    },
    {
     "ename": "TypeError",
     "evalue": "empty() takes 0 positional arguments but 1 was given",
     "output_type": "error",
     "traceback": [
      "\u001b[1;31m---------------------------------------------------------------------------\u001b[0m",
      "\u001b[1;31mTypeError\u001b[0m                                 Traceback (most recent call last)",
      "\u001b[1;31mTypeError\u001b[0m: empty() takes 0 positional arguments but 1 was given"
     ]
    },
    {
     "ename": "TypeError",
     "evalue": "empty() takes 0 positional arguments but 1 was given",
     "output_type": "error",
     "traceback": [
      "\u001b[1;31m---------------------------------------------------------------------------\u001b[0m",
      "\u001b[1;31mTypeError\u001b[0m                                 Traceback (most recent call last)",
      "\u001b[1;31mTypeError\u001b[0m: empty() takes 0 positional arguments but 1 was given"
     ]
    },
    {
     "name": "stdout",
     "output_type": "stream",
     "text": [
      "107 116 7 255 6 255\n"
     ]
    },
    {
     "ename": "TypeError",
     "evalue": "empty() takes 0 positional arguments but 1 was given",
     "output_type": "error",
     "traceback": [
      "\u001b[1;31m---------------------------------------------------------------------------\u001b[0m",
      "\u001b[1;31mTypeError\u001b[0m                                 Traceback (most recent call last)",
      "\u001b[1;31mTypeError\u001b[0m: empty() takes 0 positional arguments but 1 was given"
     ]
    },
    {
     "name": "stdout",
     "output_type": "stream",
     "text": [
      "107 116 8 255 6 255\n"
     ]
    },
    {
     "ename": "TypeError",
     "evalue": "empty() takes 0 positional arguments but 1 was given",
     "output_type": "error",
     "traceback": [
      "\u001b[1;31m---------------------------------------------------------------------------\u001b[0m",
      "\u001b[1;31mTypeError\u001b[0m                                 Traceback (most recent call last)",
      "\u001b[1;31mTypeError\u001b[0m: empty() takes 0 positional arguments but 1 was given"
     ]
    },
    {
     "name": "stdout",
     "output_type": "stream",
     "text": [
      "107 116 11 255 6 255\n",
      "107 116 11 255 6 255\n"
     ]
    },
    {
     "ename": "TypeError",
     "evalue": "empty() takes 0 positional arguments but 1 was given",
     "output_type": "error",
     "traceback": [
      "\u001b[1;31m---------------------------------------------------------------------------\u001b[0m",
      "\u001b[1;31mTypeError\u001b[0m                                 Traceback (most recent call last)",
      "\u001b[1;31mTypeError\u001b[0m: empty() takes 0 positional arguments but 1 was given"
     ]
    },
    {
     "ename": "TypeError",
     "evalue": "empty() takes 0 positional arguments but 1 was given",
     "output_type": "error",
     "traceback": [
      "\u001b[1;31m---------------------------------------------------------------------------\u001b[0m",
      "\u001b[1;31mTypeError\u001b[0m                                 Traceback (most recent call last)",
      "\u001b[1;31mTypeError\u001b[0m: empty() takes 0 positional arguments but 1 was given"
     ]
    },
    {
     "name": "stdout",
     "output_type": "stream",
     "text": [
      "107 116 16 255 6 255\n"
     ]
    },
    {
     "ename": "TypeError",
     "evalue": "empty() takes 0 positional arguments but 1 was given",
     "output_type": "error",
     "traceback": [
      "\u001b[1;31m---------------------------------------------------------------------------\u001b[0m",
      "\u001b[1;31mTypeError\u001b[0m                                 Traceback (most recent call last)",
      "\u001b[1;31mTypeError\u001b[0m: empty() takes 0 positional arguments but 1 was given"
     ]
    },
    {
     "name": "stdout",
     "output_type": "stream",
     "text": [
      "107 116 17 255 6 255\n"
     ]
    },
    {
     "ename": "TypeError",
     "evalue": "empty() takes 0 positional arguments but 1 was given",
     "output_type": "error",
     "traceback": [
      "\u001b[1;31m---------------------------------------------------------------------------\u001b[0m",
      "\u001b[1;31mTypeError\u001b[0m                                 Traceback (most recent call last)",
      "\u001b[1;31mTypeError\u001b[0m: empty() takes 0 positional arguments but 1 was given"
     ]
    },
    {
     "name": "stdout",
     "output_type": "stream",
     "text": [
      "107 116 22 255 6 255\n"
     ]
    },
    {
     "ename": "TypeError",
     "evalue": "empty() takes 0 positional arguments but 1 was given",
     "output_type": "error",
     "traceback": [
      "\u001b[1;31m---------------------------------------------------------------------------\u001b[0m",
      "\u001b[1;31mTypeError\u001b[0m                                 Traceback (most recent call last)",
      "\u001b[1;31mTypeError\u001b[0m: empty() takes 0 positional arguments but 1 was given"
     ]
    },
    {
     "name": "stdout",
     "output_type": "stream",
     "text": [
      "107 116 23 255 6 255\n"
     ]
    },
    {
     "ename": "TypeError",
     "evalue": "empty() takes 0 positional arguments but 1 was given",
     "output_type": "error",
     "traceback": [
      "\u001b[1;31m---------------------------------------------------------------------------\u001b[0m",
      "\u001b[1;31mTypeError\u001b[0m                                 Traceback (most recent call last)",
      "\u001b[1;31mTypeError\u001b[0m: empty() takes 0 positional arguments but 1 was given"
     ]
    },
    {
     "ename": "TypeError",
     "evalue": "empty() takes 0 positional arguments but 1 was given",
     "output_type": "error",
     "traceback": [
      "\u001b[1;31m---------------------------------------------------------------------------\u001b[0m",
      "\u001b[1;31mTypeError\u001b[0m                                 Traceback (most recent call last)",
      "\u001b[1;31mTypeError\u001b[0m: empty() takes 0 positional arguments but 1 was given"
     ]
    },
    {
     "name": "stdout",
     "output_type": "stream",
     "text": [
      "107 116 26 255 6 255\n",
      "107 116 26 255 6 255\n"
     ]
    },
    {
     "ename": "TypeError",
     "evalue": "empty() takes 0 positional arguments but 1 was given",
     "output_type": "error",
     "traceback": [
      "\u001b[1;31m---------------------------------------------------------------------------\u001b[0m",
      "\u001b[1;31mTypeError\u001b[0m                                 Traceback (most recent call last)",
      "\u001b[1;31mTypeError\u001b[0m: empty() takes 0 positional arguments but 1 was given"
     ]
    },
    {
     "name": "stdout",
     "output_type": "stream",
     "text": [
      "107 116 27 255 6 255\n",
      "107 116 27 255 6 255\n",
      "107 116 27 255 6 255\n",
      "107 116 27 255 6 255\n",
      "107 116 27 255 6 255\n",
      "107 116 27 255 6 255\n",
      "107 116 27 255 6 255\n",
      "107 116 27 255 6 255\n",
      "107 116 27 255 6 255\n",
      "107 116 27 255 6 255\n",
      "107 116 27 255 6 255\n",
      "107 116 27 255 6 255\n"
     ]
    },
    {
     "ename": "TypeError",
     "evalue": "empty() takes 0 positional arguments but 1 was given",
     "output_type": "error",
     "traceback": [
      "\u001b[1;31m---------------------------------------------------------------------------\u001b[0m",
      "\u001b[1;31mTypeError\u001b[0m                                 Traceback (most recent call last)",
      "\u001b[1;31mTypeError\u001b[0m: empty() takes 0 positional arguments but 1 was given"
     ]
    },
    {
     "ename": "TypeError",
     "evalue": "empty() takes 0 positional arguments but 1 was given",
     "output_type": "error",
     "traceback": [
      "\u001b[1;31m---------------------------------------------------------------------------\u001b[0m",
      "\u001b[1;31mTypeError\u001b[0m                                 Traceback (most recent call last)",
      "\u001b[1;31mTypeError\u001b[0m: empty() takes 0 positional arguments but 1 was given"
     ]
    },
    {
     "name": "stdout",
     "output_type": "stream",
     "text": [
      "107 116 32 255 6 255\n",
      "107 116 32 255 6 255\n"
     ]
    },
    {
     "ename": "TypeError",
     "evalue": "empty() takes 0 positional arguments but 1 was given",
     "output_type": "error",
     "traceback": [
      "\u001b[1;31m---------------------------------------------------------------------------\u001b[0m",
      "\u001b[1;31mTypeError\u001b[0m                                 Traceback (most recent call last)",
      "\u001b[1;31mTypeError\u001b[0m: empty() takes 0 positional arguments but 1 was given"
     ]
    },
    {
     "name": "stdout",
     "output_type": "stream",
     "text": [
      "107 116 43 255 6 255\n"
     ]
    },
    {
     "ename": "TypeError",
     "evalue": "empty() takes 0 positional arguments but 1 was given",
     "output_type": "error",
     "traceback": [
      "\u001b[1;31m---------------------------------------------------------------------------\u001b[0m",
      "\u001b[1;31mTypeError\u001b[0m                                 Traceback (most recent call last)",
      "\u001b[1;31mTypeError\u001b[0m: empty() takes 0 positional arguments but 1 was given"
     ]
    },
    {
     "name": "stdout",
     "output_type": "stream",
     "text": [
      "107 116 46 255 6 255\n"
     ]
    },
    {
     "ename": "TypeError",
     "evalue": "empty() takes 0 positional arguments but 1 was given",
     "output_type": "error",
     "traceback": [
      "\u001b[1;31m---------------------------------------------------------------------------\u001b[0m",
      "\u001b[1;31mTypeError\u001b[0m                                 Traceback (most recent call last)",
      "\u001b[1;31mTypeError\u001b[0m: empty() takes 0 positional arguments but 1 was given"
     ]
    },
    {
     "name": "stdout",
     "output_type": "stream",
     "text": [
      "107 116 59 255 6 255\n"
     ]
    },
    {
     "ename": "TypeError",
     "evalue": "empty() takes 0 positional arguments but 1 was given",
     "output_type": "error",
     "traceback": [
      "\u001b[1;31m---------------------------------------------------------------------------\u001b[0m",
      "\u001b[1;31mTypeError\u001b[0m                                 Traceback (most recent call last)",
      "\u001b[1;31mTypeError\u001b[0m: empty() takes 0 positional arguments but 1 was given"
     ]
    },
    {
     "name": "stdout",
     "output_type": "stream",
     "text": [
      "107 116 69 255 6 255\n"
     ]
    },
    {
     "ename": "TypeError",
     "evalue": "empty() takes 0 positional arguments but 1 was given",
     "output_type": "error",
     "traceback": [
      "\u001b[1;31m---------------------------------------------------------------------------\u001b[0m",
      "\u001b[1;31mTypeError\u001b[0m                                 Traceback (most recent call last)",
      "\u001b[1;31mTypeError\u001b[0m: empty() takes 0 positional arguments but 1 was given"
     ]
    },
    {
     "ename": "TypeError",
     "evalue": "empty() takes 0 positional arguments but 1 was given",
     "output_type": "error",
     "traceback": [
      "\u001b[1;31m---------------------------------------------------------------------------\u001b[0m",
      "\u001b[1;31mTypeError\u001b[0m                                 Traceback (most recent call last)",
      "\u001b[1;31mTypeError\u001b[0m: empty() takes 0 positional arguments but 1 was given"
     ]
    },
    {
     "name": "stdout",
     "output_type": "stream",
     "text": [
      "107 116 90 255 6 255\n",
      "107 116 90 255 6 255\n"
     ]
    },
    {
     "ename": "TypeError",
     "evalue": "empty() takes 0 positional arguments but 1 was given",
     "output_type": "error",
     "traceback": [
      "\u001b[1;31m---------------------------------------------------------------------------\u001b[0m",
      "\u001b[1;31mTypeError\u001b[0m                                 Traceback (most recent call last)",
      "\u001b[1;31mTypeError\u001b[0m: empty() takes 0 positional arguments but 1 was given"
     ]
    },
    {
     "ename": "TypeError",
     "evalue": "empty() takes 0 positional arguments but 1 was given",
     "output_type": "error",
     "traceback": [
      "\u001b[1;31m---------------------------------------------------------------------------\u001b[0m",
      "\u001b[1;31mTypeError\u001b[0m                                 Traceback (most recent call last)",
      "\u001b[1;31mTypeError\u001b[0m: empty() takes 0 positional arguments but 1 was given"
     ]
    },
    {
     "name": "stdout",
     "output_type": "stream",
     "text": [
      "107 116 106 255 6 255\n",
      "107 116 106 255 6 255\n"
     ]
    },
    {
     "ename": "TypeError",
     "evalue": "empty() takes 0 positional arguments but 1 was given",
     "output_type": "error",
     "traceback": [
      "\u001b[1;31m---------------------------------------------------------------------------\u001b[0m",
      "\u001b[1;31mTypeError\u001b[0m                                 Traceback (most recent call last)",
      "\u001b[1;31mTypeError\u001b[0m: empty() takes 0 positional arguments but 1 was given"
     ]
    },
    {
     "name": "stdout",
     "output_type": "stream",
     "text": [
      "107 116 107 255 6 255\n",
      "107 116 107 255 6 255\n",
      "107 116 107 255 6 255\n",
      "107 116 107 255 6 255\n",
      "107 116 107 255 6 255\n",
      "107 116 107 255 6 255\n",
      "107 116 107 255 6 255\n",
      "107 116 107 255 6 255\n",
      "107 116 107 255 6 255\n",
      "107 116 107 255 6 255\n",
      "107 116 107 255 6 255\n",
      "107 116 107 255 6 255\n",
      "107 116 107 255 6 255\n",
      "107 116 107 255 6 255\n",
      "107 116 107 255 6 255\n",
      "107 116 107 255 6 255\n",
      "107 116 107 255 6 255\n",
      "107 116 107 255 6 255\n",
      "107 116 107 255 6 255\n",
      "107 116 107 255 6 255\n",
      "107 116 107 255 6 255\n",
      "107 116 107 255 6 255\n",
      "107 116 107 255 6 255\n",
      "107 116 107 255 6 255\n",
      "107 116 107 255 6 255\n"
     ]
    },
    {
     "ename": "TypeError",
     "evalue": "empty() takes 0 positional arguments but 1 was given",
     "output_type": "error",
     "traceback": [
      "\u001b[1;31m---------------------------------------------------------------------------\u001b[0m",
      "\u001b[1;31mTypeError\u001b[0m                                 Traceback (most recent call last)",
      "\u001b[1;31mTypeError\u001b[0m: empty() takes 0 positional arguments but 1 was given"
     ]
    },
    {
     "name": "stdout",
     "output_type": "stream",
     "text": [
      "107 116 108 255 6 255\n"
     ]
    },
    {
     "ename": "TypeError",
     "evalue": "empty() takes 0 positional arguments but 1 was given",
     "output_type": "error",
     "traceback": [
      "\u001b[1;31m---------------------------------------------------------------------------\u001b[0m",
      "\u001b[1;31mTypeError\u001b[0m                                 Traceback (most recent call last)",
      "\u001b[1;31mTypeError\u001b[0m: empty() takes 0 positional arguments but 1 was given"
     ]
    },
    {
     "name": "stdout",
     "output_type": "stream",
     "text": [
      "107 116 110 255 6 255\n"
     ]
    },
    {
     "ename": "TypeError",
     "evalue": "empty() takes 0 positional arguments but 1 was given",
     "output_type": "error",
     "traceback": [
      "\u001b[1;31m---------------------------------------------------------------------------\u001b[0m",
      "\u001b[1;31mTypeError\u001b[0m                                 Traceback (most recent call last)",
      "\u001b[1;31mTypeError\u001b[0m: empty() takes 0 positional arguments but 1 was given"
     ]
    },
    {
     "name": "stdout",
     "output_type": "stream",
     "text": [
      "107 116 111 255 6 255\n"
     ]
    },
    {
     "ename": "TypeError",
     "evalue": "empty() takes 0 positional arguments but 1 was given",
     "output_type": "error",
     "traceback": [
      "\u001b[1;31m---------------------------------------------------------------------------\u001b[0m",
      "\u001b[1;31mTypeError\u001b[0m                                 Traceback (most recent call last)",
      "\u001b[1;31mTypeError\u001b[0m: empty() takes 0 positional arguments but 1 was given"
     ]
    },
    {
     "name": "stdout",
     "output_type": "stream",
     "text": [
      "107 116 112 255 6 255\n"
     ]
    },
    {
     "ename": "TypeError",
     "evalue": "empty() takes 0 positional arguments but 1 was given",
     "output_type": "error",
     "traceback": [
      "\u001b[1;31m---------------------------------------------------------------------------\u001b[0m",
      "\u001b[1;31mTypeError\u001b[0m                                 Traceback (most recent call last)",
      "\u001b[1;31mTypeError\u001b[0m: empty() takes 0 positional arguments but 1 was given"
     ]
    },
    {
     "name": "stdout",
     "output_type": "stream",
     "text": [
      "107 116 113 255 6 255\n",
      "107 116 113 255 6 255\n",
      "107 116 113 255 6 255\n"
     ]
    },
    {
     "ename": "TypeError",
     "evalue": "empty() takes 0 positional arguments but 1 was given",
     "output_type": "error",
     "traceback": [
      "\u001b[1;31m---------------------------------------------------------------------------\u001b[0m",
      "\u001b[1;31mTypeError\u001b[0m                                 Traceback (most recent call last)",
      "\u001b[1;31mTypeError\u001b[0m: empty() takes 0 positional arguments but 1 was given"
     ]
    },
    {
     "name": "stdout",
     "output_type": "stream",
     "text": [
      "107 116 114 255 6 255\n",
      "107 116 114 255 6 255\n",
      "107 116 114 255 6 255\n",
      "107 116 114 255 6 255\n"
     ]
    },
    {
     "ename": "TypeError",
     "evalue": "empty() takes 0 positional arguments but 1 was given",
     "output_type": "error",
     "traceback": [
      "\u001b[1;31m---------------------------------------------------------------------------\u001b[0m",
      "\u001b[1;31mTypeError\u001b[0m                                 Traceback (most recent call last)",
      "\u001b[1;31mTypeError\u001b[0m: empty() takes 0 positional arguments but 1 was given"
     ]
    },
    {
     "name": "stdout",
     "output_type": "stream",
     "text": [
      "107 116 115 255 6 255\n",
      "107 116 115 255 6 255\n",
      "107 116 115 255 6 255\n",
      "107 116 115 255 6 255\n"
     ]
    },
    {
     "ename": "TypeError",
     "evalue": "empty() takes 0 positional arguments but 1 was given",
     "output_type": "error",
     "traceback": [
      "\u001b[1;31m---------------------------------------------------------------------------\u001b[0m",
      "\u001b[1;31mTypeError\u001b[0m                                 Traceback (most recent call last)",
      "\u001b[1;31mTypeError\u001b[0m: empty() takes 0 positional arguments but 1 was given"
     ]
    },
    {
     "name": "stdout",
     "output_type": "stream",
     "text": [
      "107 116 117 255 6 255\n",
      "107 116 117 255 6 255\n",
      "107 116 117 255 6 255\n",
      "107 116 117 255 6 255\n",
      "107 116 117 255 6 255\n",
      "107 116 117 255 6 255\n"
     ]
    },
    {
     "ename": "TypeError",
     "evalue": "empty() takes 0 positional arguments but 1 was given",
     "output_type": "error",
     "traceback": [
      "\u001b[1;31m---------------------------------------------------------------------------\u001b[0m",
      "\u001b[1;31mTypeError\u001b[0m                                 Traceback (most recent call last)",
      "\u001b[1;31mTypeError\u001b[0m: empty() takes 0 positional arguments but 1 was given"
     ]
    },
    {
     "name": "stdout",
     "output_type": "stream",
     "text": [
      "107 116 118 255 6 255\n",
      "107 116 118 255 6 255\n",
      "107 116 118 255 6 255\n",
      "107 116 118 255 6 255\n",
      "107 116 118 255 6 255\n",
      "107 116 118 255 6 255\n"
     ]
    },
    {
     "ename": "TypeError",
     "evalue": "empty() takes 0 positional arguments but 1 was given",
     "output_type": "error",
     "traceback": [
      "\u001b[1;31m---------------------------------------------------------------------------\u001b[0m",
      "\u001b[1;31mTypeError\u001b[0m                                 Traceback (most recent call last)",
      "\u001b[1;31mTypeError\u001b[0m: empty() takes 0 positional arguments but 1 was given"
     ]
    },
    {
     "name": "stdout",
     "output_type": "stream",
     "text": [
      "107 116 119 255 6 255\n",
      "107 116 119 255 6 255\n",
      "107 116 119 255 6 255\n",
      "107 116 119 255 6 255\n",
      "107 116 119 255 6 255\n",
      "107 116 119 255 6 255\n",
      "107 116 119 255 6 255\n",
      "107 116 119 255 6 255\n",
      "107 116 119 255 6 255\n",
      "107 116 119 255 6 255\n",
      "107 116 119 255 6 255\n",
      "107 116 119 255 6 255\n",
      "107 116 119 255 6 255\n",
      "107 116 119 255 6 255\n",
      "107 116 119 255 6 255\n",
      "107 116 119 255 6 255\n",
      "107 116 119 255 6 255\n",
      "107 116 119 255 6 255\n",
      "107 116 119 255 6 255\n",
      "107 116 119 255 6 255\n",
      "107 116 119 255 6 255\n",
      "107 116 119 255 6 255\n",
      "107 116 119 255 6 255\n",
      "107 116 119 255 6 255\n",
      "107 116 119 255 6 255\n",
      "107 116 119 255 6 255\n",
      "107 116 119 255 6 255\n",
      "107 116 119 255 6 255\n",
      "107 116 119 255 6 255\n",
      "107 116 119 255 6 255\n",
      "107 116 119 255 6 255\n",
      "107 116 119 255 6 255\n",
      "107 116 119 255 6 255\n",
      "107 116 119 255 6 255\n",
      "107 116 119 255 6 255\n",
      "107 116 119 255 6 255\n",
      "107 116 119 255 6 255\n",
      "107 116 119 255 6 255\n",
      "107 116 119 255 6 255\n",
      "107 116 119 255 6 255\n",
      "107 116 119 255 6 255\n",
      "107 116 119 255 6 255\n",
      "107 116 119 255 6 255\n",
      "107 116 119 255 6 255\n",
      "107 116 119 255 6 255\n",
      "107 116 119 255 6 255\n",
      "107 116 119 255 6 255\n",
      "107 116 119 255 6 255\n",
      "107 116 119 255 6 255\n",
      "107 116 119 255 6 255\n",
      "107 116 119 255 6 255\n",
      "107 116 119 255 6 255\n",
      "107 116 119 255 6 255\n",
      "107 116 119 255 6 255\n",
      "107 116 119 255 6 255\n",
      "107 116 119 255 6 255\n",
      "107 116 119 255 6 255\n",
      "107 116 119 255 6 255\n",
      "107 116 119 255 6 255\n",
      "107 116 119 255 6 255\n",
      "107 116 119 255 6 255\n",
      "107 116 119 255 6 255\n",
      "107 116 119 255 6 255\n",
      "107 116 119 255 6 255\n",
      "107 116 119 255 6 255\n",
      "107 116 119 255 6 255\n",
      "107 116 119 255 6 255\n",
      "107 116 119 255 6 255\n",
      "107 116 119 255 6 255\n",
      "107 116 119 255 6 255\n",
      "107 116 119 255 6 255\n",
      "107 116 119 255 6 255\n",
      "107 116 119 255 6 255\n",
      "107 116 119 255 6 255\n",
      "107 116 119 255 6 255\n",
      "107 116 119 255 6 255\n",
      "107 116 119 255 6 255\n",
      "107 116 119 255 6 255\n",
      "107 116 119 255 6 255\n",
      "107 116 119 255 6 255\n",
      "107 116 119 255 6 255\n",
      "107 116 119 255 6 255\n",
      "107 116 119 255 6 255\n",
      "107 116 119 255 6 255\n",
      "107 116 119 255 6 255\n",
      "107 116 119 255 6 255\n",
      "107 116 119 255 6 255\n",
      "107 116 119 255 6 255\n",
      "107 116 119 255 6 255\n",
      "107 116 119 255 6 255\n",
      "107 116 119 255 6 255\n",
      "107 116 119 255 6 255\n",
      "107 116 119 255 6 255\n",
      "107 116 119 255 6 255\n",
      "107 116 119 255 6 255\n",
      "107 116 119 255 6 255\n",
      "107 116 119 255 6 255\n",
      "107 116 119 255 6 255\n",
      "107 116 119 255 6 255\n",
      "107 116 119 255 6 255\n",
      "107 116 119 255 6 255\n",
      "107 116 119 255 6 255\n",
      "107 116 119 255 6 255\n",
      "107 116 119 255 6 255\n",
      "107 116 119 255 6 255\n",
      "107 116 119 255 6 255\n",
      "107 116 119 255 6 255\n",
      "107 116 119 255 6 255\n",
      "107 116 119 255 6 255\n",
      "107 116 119 255 6 255\n",
      "107 116 119 255 6 255\n",
      "107 116 119 255 6 255\n",
      "107 116 119 255 6 255\n",
      "107 116 119 255 6 255\n",
      "107 116 119 255 6 255\n",
      "107 116 119 255 6 255\n",
      "107 116 119 255 6 255\n",
      "107 116 119 255 6 255\n",
      "107 116 119 255 6 255\n",
      "107 116 119 255 6 255\n",
      "107 116 119 255 6 255\n",
      "107 116 119 255 6 255\n",
      "107 116 119 255 6 255\n",
      "107 116 119 255 6 255\n",
      "107 116 119 255 6 255\n",
      "107 116 119 255 6 255\n",
      "107 116 119 255 6 255\n",
      "107 116 119 255 6 255\n",
      "107 116 119 255 6 255\n",
      "107 116 119 255 6 255\n",
      "107 116 119 255 6 255\n",
      "107 116 119 255 6 255\n",
      "107 116 119 255 6 255\n",
      "107 116 119 255 6 255\n",
      "107 116 119 255 6 255\n",
      "107 116 119 255 6 255\n",
      "107 116 119 255 6 255\n",
      "107 116 119 255 6 255\n",
      "107 116 119 255 6 255\n",
      "107 116 119 255 6 255\n",
      "107 116 119 255 6 255\n",
      "107 116 119 255 6 255\n",
      "107 116 119 255 6 255\n",
      "107 116 119 255 6 255\n",
      "107 116 119 255 6 255\n",
      "107 116 119 255 6 255\n",
      "107 116 119 255 6 255\n",
      "107 116 119 255 6 255\n",
      "107 116 119 255 6 255\n",
      "107 116 119 255 6 255\n",
      "107 116 119 255 6 255\n",
      "107 116 119 255 6 255\n",
      "107 116 119 255 6 255\n",
      "107 116 119 255 6 255\n",
      "107 116 119 255 6 255\n",
      "107 116 119 255 6 255\n",
      "107 116 119 255 6 255\n",
      "107 116 119 255 6 255\n",
      "107 116 119 255 6 255\n",
      "107 116 119 255 6 255\n",
      "107 116 119 255 6 255\n",
      "107 116 119 255 6 255\n",
      "107 116 119 255 6 255\n",
      "107 116 119 255 6 255\n",
      "107 116 119 255 6 255\n",
      "107 116 119 255 6 255\n",
      "107 116 119 255 6 255\n",
      "107 116 119 255 6 255\n",
      "107 116 119 255 6 255\n",
      "107 116 119 255 6 255\n",
      "107 116 119 255 6 255\n",
      "107 116 119 255 6 255\n",
      "107 116 119 255 6 255\n",
      "107 116 119 255 6 255\n",
      "107 116 119 255 6 255\n",
      "107 116 119 255 6 255\n",
      "107 116 119 255 6 255\n",
      "107 116 119 255 6 255\n",
      "107 116 119 255 6 255\n",
      "107 116 119 255 6 255\n",
      "107 116 119 255 6 255\n",
      "107 116 119 255 6 255\n",
      "107 116 119 255 6 255\n",
      "107 116 119 255 6 255\n",
      "107 116 119 255 6 255\n",
      "107 116 119 255 6 255\n",
      "107 116 119 255 6 255\n",
      "107 116 119 255 6 255\n",
      "107 116 119 255 6 255\n",
      "107 116 119 255 6 255\n",
      "107 116 119 255 6 255\n",
      "107 116 119 255 6 255\n",
      "107 116 119 255 6 255\n",
      "107 116 119 255 6 255\n",
      "107 116 119 255 6 255\n",
      "107 116 119 255 6 255\n",
      "107 116 119 255 6 255\n",
      "107 116 119 255 6 255\n",
      "107 116 119 255 6 255\n",
      "107 116 119 255 6 255\n",
      "107 116 119 255 6 255\n",
      "107 116 119 255 6 255\n",
      "107 116 119 255 6 255\n",
      "107 116 119 255 6 255\n",
      "107 116 119 255 6 255\n",
      "107 116 119 255 6 255\n",
      "107 116 119 255 6 255\n",
      "107 116 119 255 6 255\n",
      "107 116 119 255 6 255\n",
      "107 116 119 255 6 255\n",
      "107 116 119 255 6 255\n",
      "107 116 119 255 6 255\n",
      "107 116 119 255 6 255\n",
      "107 116 119 255 6 255\n",
      "107 116 119 255 6 255\n",
      "107 116 119 255 6 255\n",
      "107 116 119 255 6 255\n",
      "107 116 119 255 6 255\n",
      "107 116 119 255 6 255\n",
      "107 116 119 255 6 255\n",
      "107 116 119 255 6 255\n",
      "107 116 119 255 6 255\n",
      "107 116 119 255 6 255\n",
      "107 116 119 255 6 255\n",
      "107 116 119 255 6 255\n",
      "107 116 119 255 6 255\n",
      "107 116 119 255 6 255\n",
      "107 116 119 255 6 255\n",
      "107 116 119 255 6 255\n",
      "107 116 119 255 6 255\n",
      "107 116 119 255 6 255\n",
      "107 116 119 255 6 255\n",
      "107 116 119 255 6 255\n",
      "107 116 119 255 6 255\n",
      "107 116 119 255 6 255\n",
      "107 116 119 255 6 255\n",
      "107 116 119 255 6 255\n",
      "107 116 119 255 6 255\n",
      "107 116 119 255 6 255\n",
      "107 116 119 255 6 255\n",
      "107 116 119 255 6 255\n",
      "107 116 119 255 6 255\n",
      "107 116 119 255 6 255\n",
      "107 116 119 255 6 255\n",
      "107 116 119 255 6 255\n",
      "107 116 119 255 6 255\n",
      "107 116 119 255 6 255\n",
      "107 116 119 255 6 255\n",
      "107 116 119 255 6 255\n",
      "107 116 119 255 6 255\n",
      "107 116 119 255 6 255\n",
      "107 116 119 255 6 255\n",
      "107 116 119 255 6 255\n",
      "107 116 119 255 6 255\n",
      "107 116 119 255 6 255\n",
      "107 116 119 255 6 255\n",
      "107 116 119 255 6 255\n",
      "107 116 119 255 6 255\n",
      "107 116 119 255 6 255\n",
      "107 116 119 255 6 255\n",
      "107 116 119 255 6 255\n",
      "107 116 119 255 6 255\n",
      "107 116 119 255 6 255\n",
      "107 116 119 255 6 255\n",
      "107 116 119 255 6 255\n",
      "107 116 119 255 6 255\n",
      "107 116 119 255 6 255\n",
      "107 116 119 255 6 255\n",
      "107 116 119 255 6 255\n",
      "107 116 119 255 6 255\n",
      "107 116 119 255 6 255\n",
      "107 116 119 255 6 255\n",
      "107 116 119 255 6 255\n",
      "107 116 119 255 6 255\n",
      "107 116 119 255 6 255\n",
      "107 116 119 255 6 255\n",
      "107 116 119 255 6 255\n",
      "107 116 119 255 6 255\n",
      "107 116 119 255 6 255\n",
      "107 116 119 255 6 255\n",
      "107 116 119 255 6 255\n",
      "107 116 119 255 6 255\n",
      "107 116 119 255 6 255\n",
      "107 116 119 255 6 255\n",
      "107 116 119 255 6 255\n",
      "107 116 119 255 6 255\n",
      "107 116 119 255 6 255\n",
      "107 116 119 255 6 255\n",
      "107 116 119 255 6 255\n",
      "107 116 119 255 6 255\n",
      "107 116 119 255 6 255\n",
      "107 116 119 255 6 255\n",
      "107 116 119 255 6 255\n",
      "107 116 119 255 6 255\n",
      "107 116 119 255 6 255\n",
      "107 116 119 255 6 255\n",
      "107 116 119 255 6 255\n",
      "107 116 119 255 6 255\n",
      "107 116 119 255 6 255\n",
      "107 116 119 255 6 255\n",
      "107 116 119 255 6 255\n",
      "107 116 119 255 6 255\n",
      "107 116 119 255 6 255\n",
      "107 116 119 255 6 255\n",
      "107 116 119 255 6 255\n",
      "107 116 119 255 6 255\n",
      "107 116 119 255 6 255\n",
      "107 116 119 255 6 255\n",
      "107 116 119 255 6 255\n",
      "107 116 119 255 6 255\n",
      "107 116 119 255 6 255\n",
      "107 116 119 255 6 255\n",
      "107 116 119 255 6 255\n",
      "107 116 119 255 6 255\n",
      "107 116 119 255 6 255\n",
      "107 116 119 255 6 255\n",
      "107 116 119 255 6 255\n",
      "107 116 119 255 6 255\n",
      "107 116 119 255 6 255\n",
      "107 116 119 255 6 255\n",
      "107 116 119 255 6 255\n",
      "107 116 119 255 6 255\n",
      "107 116 119 255 6 255\n",
      "107 116 119 255 6 255\n",
      "107 116 119 255 6 255\n",
      "107 116 119 255 6 255\n",
      "107 116 119 255 6 255\n",
      "107 116 119 255 6 255\n",
      "107 116 119 255 6 255\n",
      "107 116 119 255 6 255\n",
      "107 116 119 255 6 255\n",
      "107 116 119 255 6 255\n",
      "107 116 119 255 6 255\n",
      "107 116 119 255 6 255\n",
      "107 116 119 255 6 255\n",
      "107 116 119 255 6 255\n",
      "107 116 119 255 6 255\n",
      "107 116 119 255 6 255\n",
      "107 116 119 255 6 255\n",
      "107 116 119 255 6 255\n",
      "107 116 119 255 6 255\n",
      "107 116 119 255 6 255\n",
      "107 116 119 255 6 255\n",
      "107 116 119 255 6 255\n",
      "107 116 119 255 6 255\n",
      "107 116 119 255 6 255\n",
      "107 116 119 255 6 255\n",
      "107 116 119 255 6 255\n",
      "107 116 119 255 6 255\n",
      "107 116 119 255 6 255\n",
      "107 116 119 255 6 255\n",
      "107 116 119 255 6 255\n",
      "107 116 119 255 6 255\n",
      "107 116 119 255 6 255\n",
      "107 116 119 255 6 255\n",
      "107 116 119 255 6 255\n",
      "107 116 119 255 6 255\n",
      "107 116 119 255 6 255\n",
      "107 116 119 255 6 255\n",
      "107 116 119 255 6 255\n",
      "107 116 119 255 6 255\n",
      "107 116 119 255 6 255\n",
      "107 116 119 255 6 255\n",
      "107 116 119 255 6 255\n",
      "107 116 119 255 6 255\n",
      "107 116 119 255 6 255\n",
      "107 116 119 255 6 255\n",
      "107 116 119 255 6 255\n",
      "107 116 119 255 6 255\n",
      "107 116 119 255 6 255\n",
      "107 116 119 255 6 255\n",
      "107 116 119 255 6 255\n",
      "107 116 119 255 6 255\n"
     ]
    },
    {
     "name": "stdout",
     "output_type": "stream",
     "text": [
      "107 116 119 255 6 255\n",
      "107 116 119 255 6 255\n",
      "107 116 119 255 6 255\n",
      "107 116 119 255 6 255\n",
      "107 116 119 255 6 255\n",
      "107 116 119 255 6 255\n",
      "107 116 119 255 6 255\n",
      "107 116 119 255 6 255\n",
      "107 116 119 255 6 255\n",
      "107 116 119 255 6 255\n",
      "107 116 119 255 6 255\n",
      "107 116 119 255 6 255\n",
      "107 116 119 255 6 255\n",
      "107 116 119 255 6 255\n",
      "107 116 119 255 6 255\n",
      "107 116 119 255 6 255\n",
      "107 116 119 255 6 255\n",
      "107 116 119 255 6 255\n",
      "107 116 119 255 6 255\n",
      "107 116 119 255 6 255\n",
      "107 116 119 255 6 255\n",
      "107 116 119 255 6 255\n",
      "107 116 119 255 6 255\n",
      "107 116 119 255 6 255\n",
      "107 116 119 255 6 255\n",
      "107 116 119 255 6 255\n",
      "107 116 119 255 6 255\n",
      "107 116 119 255 6 255\n",
      "107 116 119 255 6 255\n",
      "107 116 119 255 6 255\n",
      "107 116 119 255 6 255\n",
      "107 116 119 255 6 255\n",
      "107 116 119 255 6 255\n",
      "107 116 119 255 6 255\n",
      "107 116 119 255 6 255\n",
      "107 116 119 255 6 255\n",
      "107 116 119 255 6 255\n",
      "107 116 119 255 6 255\n",
      "107 116 119 255 6 255\n",
      "107 116 119 255 6 255\n",
      "107 116 119 255 6 255\n",
      "107 116 119 255 6 255\n",
      "107 116 119 255 6 255\n",
      "107 116 119 255 6 255\n",
      "107 116 119 255 6 255\n",
      "107 116 119 255 6 255\n",
      "107 116 119 255 6 255\n",
      "107 116 119 255 6 255\n",
      "107 116 119 255 6 255\n",
      "107 116 119 255 6 255\n",
      "107 116 119 255 6 255\n",
      "107 116 119 255 6 255\n",
      "107 116 119 255 6 255\n",
      "107 116 119 255 6 255\n",
      "107 116 119 255 6 255\n",
      "107 116 119 255 6 255\n",
      "107 116 119 255 6 255\n",
      "107 116 119 255 6 255\n",
      "107 116 119 255 6 255\n",
      "107 116 119 255 6 255\n",
      "107 116 119 255 6 255\n",
      "107 116 119 255 6 255\n",
      "107 116 119 255 6 255\n",
      "107 116 119 255 6 255\n",
      "107 116 119 255 6 255\n",
      "107 116 119 255 6 255\n",
      "107 116 119 255 6 255\n",
      "107 116 119 255 6 255\n",
      "107 116 119 255 6 255\n",
      "107 116 119 255 6 255\n",
      "107 116 119 255 6 255\n",
      "107 116 119 255 6 255\n",
      "107 116 119 255 6 255\n",
      "107 116 119 255 6 255\n",
      "107 116 119 255 6 255\n",
      "107 116 119 255 6 255\n",
      "107 116 119 255 6 255\n",
      "107 116 119 255 6 255\n",
      "107 116 119 255 6 255\n",
      "107 116 119 255 6 255\n",
      "107 116 119 255 6 255\n",
      "107 116 119 255 6 255\n",
      "107 116 119 255 6 255\n",
      "107 116 119 255 6 255\n",
      "107 116 119 255 6 255\n",
      "107 116 119 255 6 255\n",
      "107 116 119 255 6 255\n",
      "107 116 119 255 6 255\n",
      "107 116 119 255 6 255\n",
      "107 116 119 255 6 255\n",
      "107 116 119 255 6 255\n",
      "107 116 119 255 6 255\n",
      "107 116 119 255 6 255\n",
      "107 116 119 255 6 255\n",
      "107 116 119 255 6 255\n",
      "107 116 119 255 6 255\n",
      "107 116 119 255 6 255\n",
      "107 116 119 255 6 255\n",
      "107 116 119 255 6 255\n",
      "107 116 119 255 6 255\n",
      "107 116 119 255 6 255\n",
      "107 116 119 255 6 255\n",
      "107 116 119 255 6 255\n",
      "107 116 119 255 6 255\n",
      "107 116 119 255 6 255\n",
      "107 116 119 255 6 255\n",
      "107 116 119 255 6 255\n",
      "107 116 119 255 6 255\n",
      "107 116 119 255 6 255\n",
      "107 116 119 255 6 255\n",
      "107 116 119 255 6 255\n",
      "107 116 119 255 6 255\n",
      "107 116 119 255 6 255\n",
      "107 116 119 255 6 255\n",
      "107 116 119 255 6 255\n",
      "107 116 119 255 6 255\n",
      "107 116 119 255 6 255\n",
      "107 116 119 255 6 255\n",
      "107 116 119 255 6 255\n",
      "107 116 119 255 6 255\n",
      "107 116 119 255 6 255\n",
      "107 116 119 255 6 255\n",
      "107 116 119 255 6 255\n",
      "107 116 119 255 6 255\n",
      "107 116 119 255 6 255\n",
      "107 116 119 255 6 255\n",
      "107 116 119 255 6 255\n",
      "107 116 119 255 6 255\n",
      "107 116 119 255 6 255\n",
      "107 116 119 255 6 255\n",
      "107 116 119 255 6 255\n",
      "107 116 119 255 6 255\n",
      "107 116 119 255 6 255\n",
      "107 116 119 255 6 255\n",
      "107 116 119 255 6 255\n",
      "107 116 119 255 6 255\n",
      "107 116 119 255 6 255\n",
      "107 116 119 255 6 255\n",
      "107 116 119 255 6 255\n",
      "107 116 119 255 6 255\n",
      "107 116 119 255 6 255\n",
      "107 116 119 255 6 255\n",
      "107 116 119 255 6 255\n",
      "107 116 119 255 6 255\n",
      "107 116 119 255 6 255\n",
      "107 116 119 255 6 255\n",
      "107 116 119 255 6 255\n",
      "107 116 119 255 6 255\n",
      "107 116 119 255 6 255\n",
      "107 116 119 255 6 255\n",
      "107 116 119 255 6 255\n",
      "107 116 119 255 6 255\n",
      "107 116 119 255 6 255\n",
      "107 116 119 255 6 255\n",
      "107 116 119 255 6 255\n",
      "107 116 119 255 6 255\n",
      "107 116 119 255 6 255\n",
      "107 116 119 255 6 255\n",
      "107 116 119 255 6 255\n",
      "107 116 119 255 6 255\n",
      "107 116 119 255 6 255\n",
      "107 116 119 255 6 255\n",
      "107 116 119 255 6 255\n",
      "107 116 119 255 6 255\n",
      "107 116 119 255 6 255\n",
      "107 116 119 255 6 255\n",
      "107 116 119 255 6 255\n",
      "107 116 119 255 6 255\n",
      "107 116 119 255 6 255\n",
      "107 116 119 255 6 255\n",
      "107 116 119 255 6 255\n",
      "107 116 119 255 6 255\n",
      "107 116 119 255 6 255\n",
      "107 116 119 255 6 255\n",
      "107 116 119 255 6 255\n",
      "107 116 119 255 6 255\n",
      "107 116 119 255 6 255\n",
      "107 116 119 255 6 255\n",
      "107 116 119 255 6 255\n",
      "107 116 119 255 6 255\n",
      "107 116 119 255 6 255\n",
      "107 116 119 255 6 255\n",
      "107 116 119 255 6 255\n",
      "107 116 119 255 6 255\n",
      "107 116 119 255 6 255\n",
      "107 116 119 255 6 255\n",
      "107 116 119 255 6 255\n",
      "107 116 119 255 6 255\n",
      "107 116 119 255 6 255\n",
      "107 116 119 255 6 255\n",
      "107 116 119 255 6 255\n",
      "107 116 119 255 6 255\n",
      "107 116 119 255 6 255\n",
      "107 116 119 255 6 255\n",
      "107 116 119 255 6 255\n",
      "107 116 119 255 6 255\n",
      "107 116 119 255 6 255\n",
      "107 116 119 255 6 255\n",
      "107 116 119 255 6 255\n",
      "107 116 119 255 6 255\n",
      "107 116 119 255 6 255\n",
      "107 116 119 255 6 255\n",
      "107 116 119 255 6 255\n",
      "107 116 119 255 6 255\n",
      "107 116 119 255 6 255\n",
      "107 116 119 255 6 255\n",
      "107 116 119 255 6 255\n",
      "107 116 119 255 6 255\n",
      "107 116 119 255 6 255\n",
      "107 116 119 255 6 255\n",
      "107 116 119 255 6 255\n",
      "107 116 119 255 6 255\n",
      "107 116 119 255 6 255\n",
      "107 116 119 255 6 255\n",
      "107 116 119 255 6 255\n",
      "107 116 119 255 6 255\n",
      "107 116 119 255 6 255\n",
      "107 116 119 255 6 255\n",
      "107 116 119 255 6 255\n",
      "107 116 119 255 6 255\n",
      "107 116 119 255 6 255\n",
      "107 116 119 255 6 255\n",
      "107 116 119 255 6 255\n",
      "107 116 119 255 6 255\n",
      "107 116 119 255 6 255\n",
      "107 116 119 255 6 255\n",
      "107 116 119 255 6 255\n",
      "107 116 119 255 6 255\n",
      "107 116 119 255 6 255\n",
      "107 116 119 255 6 255\n",
      "107 116 119 255 6 255\n",
      "107 116 119 255 6 255\n",
      "107 116 119 255 6 255\n",
      "107 116 119 255 6 255\n",
      "107 116 119 255 6 255\n",
      "107 116 119 255 6 255\n",
      "107 116 119 255 6 255\n",
      "107 116 119 255 6 255\n",
      "107 116 119 255 6 255\n",
      "107 116 119 255 6 255\n",
      "107 116 119 255 6 255\n",
      "107 116 119 255 6 255\n",
      "107 116 119 255 6 255\n",
      "107 116 119 255 6 255\n",
      "107 116 119 255 6 255\n",
      "107 116 119 255 6 255\n",
      "107 116 119 255 6 255\n",
      "107 116 119 255 6 255\n",
      "107 116 119 255 6 255\n",
      "107 116 119 255 6 255\n",
      "107 116 119 255 6 255\n",
      "107 116 119 255 6 255\n",
      "107 116 119 255 6 255\n",
      "107 116 119 255 6 255\n",
      "107 116 119 255 6 255\n",
      "107 116 119 255 6 255\n",
      "107 116 119 255 6 255\n",
      "107 116 119 255 6 255\n",
      "107 116 119 255 6 255\n",
      "107 116 119 255 6 255\n",
      "107 116 119 255 6 255\n",
      "107 116 119 255 6 255\n",
      "107 116 119 255 6 255\n",
      "107 116 119 255 6 255\n",
      "107 116 119 255 6 255\n",
      "107 116 119 255 6 255\n",
      "107 116 119 255 6 255\n",
      "107 116 119 255 6 255\n",
      "107 116 119 255 6 255\n",
      "107 116 119 255 6 255\n",
      "107 116 119 255 6 255\n",
      "107 116 119 255 6 255\n",
      "107 116 119 255 6 255\n",
      "107 116 119 255 6 255\n",
      "107 116 119 255 6 255\n",
      "107 116 119 255 6 255\n",
      "107 116 119 255 6 255\n",
      "107 116 119 255 6 255\n",
      "107 116 119 255 6 255\n",
      "107 116 119 255 6 255\n",
      "107 116 119 255 6 255\n",
      "107 116 119 255 6 255\n",
      "107 116 119 255 6 255\n",
      "107 116 119 255 6 255\n",
      "107 116 119 255 6 255\n",
      "107 116 119 255 6 255\n",
      "107 116 119 255 6 255\n",
      "107 116 119 255 6 255\n",
      "107 116 119 255 6 255\n",
      "107 116 119 255 6 255\n",
      "-1 -1 -1 -1 -1 -1\n",
      "-1 -1 -1 -1 -1 -1\n",
      "-1 -1 -1 -1 -1 -1\n",
      "-1 -1 -1 -1 -1 -1\n",
      "-1 -1 -1 -1 -1 -1\n",
      "-1 -1 -1 -1 -1 -1\n",
      "-1 -1 -1 -1 -1 -1\n",
      "-1 -1 -1 -1 -1 -1\n",
      "-1 -1 -1 -1 -1 -1\n",
      "-1 -1 -1 -1 -1 -1\n",
      "-1 -1 -1 -1 -1 -1\n",
      "-1 -1 -1 -1 -1 -1\n",
      "-1 -1 -1 -1 -1 -1\n",
      "-1 -1 -1 -1 -1 -1\n",
      "-1 -1 -1 -1 -1 -1\n",
      "-1 -1 -1 -1 -1 -1\n",
      "-1 -1 -1 -1 -1 -1\n",
      "-1 -1 -1 -1 -1 -1\n",
      "-1 -1 -1 -1 -1 -1\n",
      "-1 -1 -1 -1 -1 -1\n",
      "-1 -1 -1 -1 -1 -1\n",
      "-1 -1 -1 -1 -1 -1\n",
      "-1 -1 -1 -1 -1 -1\n",
      "-1 -1 -1 -1 -1 -1\n",
      "-1 -1 -1 -1 -1 -1\n",
      "-1 -1 -1 -1 -1 -1\n",
      "-1 -1 -1 -1 -1 -1\n",
      "-1 -1 -1 -1 -1 -1\n",
      "-1 -1 -1 -1 -1 -1\n",
      "-1 -1 -1 -1 -1 -1\n",
      "-1 -1 -1 -1 -1 -1\n",
      "-1 -1 -1 -1 -1 -1\n",
      "-1 -1 -1 -1 -1 -1\n",
      "-1 -1 -1 -1 -1 -1\n",
      "-1 -1 -1 -1 -1 -1\n",
      "-1 -1 -1 -1 -1 -1\n",
      "-1 -1 -1 -1 -1 -1\n",
      "-1 -1 -1 -1 -1 -1\n",
      "-1 -1 -1 -1 -1 -1\n",
      "-1 -1 -1 -1 -1 -1\n",
      "-1 -1 -1 -1 -1 -1\n",
      "-1 -1 -1 -1 -1 -1\n",
      "-1 -1 -1 -1 -1 -1\n",
      "-1 -1 -1 -1 -1 -1\n",
      "-1 -1 -1 -1 -1 -1\n",
      "-1 -1 -1 -1 -1 -1\n",
      "-1 -1 -1 -1 -1 -1\n",
      "-1 -1 -1 -1 -1 -1\n",
      "-1 -1 -1 -1 -1 -1\n",
      "-1 -1 -1 -1 -1 -1\n",
      "-1 -1 -1 -1 -1 -1\n",
      "-1 -1 -1 -1 -1 -1\n",
      "-1 -1 -1 -1 -1 -1\n",
      "-1 -1 -1 -1 -1 -1\n",
      "-1 -1 -1 -1 -1 -1\n",
      "-1 -1 -1 -1 -1 -1\n",
      "-1 -1 -1 -1 -1 -1\n",
      "-1 -1 -1 -1 -1 -1\n",
      "-1 -1 -1 -1 -1 -1\n",
      "-1 -1 -1 -1 -1 -1\n",
      "-1 -1 -1 -1 -1 -1\n",
      "-1 -1 -1 -1 -1 -1\n",
      "-1 -1 -1 -1 -1 -1\n",
      "-1 -1 -1 -1 -1 -1\n",
      "-1 -1 -1 -1 -1 -1\n",
      "-1 -1 -1 -1 -1 -1\n",
      "-1 -1 -1 -1 -1 -1\n",
      "-1 -1 -1 -1 -1 -1\n",
      "-1 -1 -1 -1 -1 -1\n",
      "-1 -1 -1 -1 -1 -1\n",
      "-1 -1 -1 -1 -1 -1\n",
      "-1 -1 -1 -1 -1 -1\n",
      "-1 -1 -1 -1 -1 -1\n",
      "-1 -1 -1 -1 -1 -1\n",
      "-1 -1 -1 -1 -1 -1\n",
      "-1 -1 -1 -1 -1 -1\n",
      "-1 -1 -1 -1 -1 -1\n",
      "-1 -1 -1 -1 -1 -1\n",
      "-1 -1 -1 -1 -1 -1\n",
      "-1 -1 -1 -1 -1 -1\n",
      "-1 -1 -1 -1 -1 -1\n",
      "-1 -1 -1 -1 -1 -1\n",
      "-1 -1 -1 -1 -1 -1\n",
      "-1 -1 -1 -1 -1 -1\n",
      "-1 -1 -1 -1 -1 -1\n",
      "-1 -1 -1 -1 -1 -1\n",
      "-1 -1 -1 -1 -1 -1\n",
      "-1 -1 -1 -1 -1 -1\n",
      "-1 -1 -1 -1 -1 -1\n",
      "-1 -1 -1 -1 -1 -1\n",
      "-1 -1 -1 -1 -1 -1\n",
      "-1 -1 -1 -1 -1 -1\n",
      "-1 -1 -1 -1 -1 -1\n",
      "-1 -1 -1 -1 -1 -1\n",
      "-1 -1 -1 -1 -1 -1\n",
      "-1 -1 -1 -1 -1 -1\n",
      "-1 -1 -1 -1 -1 -1\n",
      "-1 -1 -1 -1 -1 -1\n",
      "-1 -1 -1 -1 -1 -1\n",
      "-1 -1 -1 -1 -1 -1\n",
      "-1 -1 -1 -1 -1 -1\n",
      "-1 -1 -1 -1 -1 -1\n",
      "-1 -1 -1 -1 -1 -1\n"
     ]
    },
    {
     "name": "stdout",
     "output_type": "stream",
     "text": [
      "-1 -1 -1 -1 -1 -1\n",
      "-1 -1 -1 -1 -1 -1\n",
      "-1 -1 -1 -1 -1 -1\n",
      "-1 -1 -1 -1 -1 -1\n",
      "-1 -1 -1 -1 -1 -1\n",
      "-1 -1 -1 -1 -1 -1\n",
      "-1 -1 -1 -1 -1 -1\n",
      "-1 -1 -1 -1 -1 -1\n",
      "-1 -1 -1 -1 -1 -1\n",
      "-1 -1 -1 -1 -1 -1\n",
      "-1 -1 -1 -1 -1 -1\n",
      "-1 -1 -1 -1 -1 -1\n",
      "-1 -1 -1 -1 -1 -1\n",
      "-1 -1 -1 -1 -1 -1\n",
      "-1 -1 -1 -1 -1 -1\n",
      "-1 -1 -1 -1 -1 -1\n",
      "-1 -1 -1 -1 -1 -1\n",
      "-1 -1 -1 -1 -1 -1\n",
      "-1 -1 -1 -1 -1 -1\n",
      "-1 -1 -1 -1 -1 -1\n",
      "-1 -1 -1 -1 -1 -1\n",
      "-1 -1 -1 -1 -1 -1\n",
      "-1 -1 -1 -1 -1 -1\n",
      "-1 -1 -1 -1 -1 -1\n",
      "-1 -1 -1 -1 -1 -1\n",
      "-1 -1 -1 -1 -1 -1\n",
      "-1 -1 -1 -1 -1 -1\n",
      "-1 -1 -1 -1 -1 -1\n",
      "-1 -1 -1 -1 -1 -1\n",
      "-1 -1 -1 -1 -1 -1\n",
      "-1 -1 -1 -1 -1 -1\n",
      "-1 -1 -1 -1 -1 -1\n",
      "-1 -1 -1 -1 -1 -1\n",
      "-1 -1 -1 -1 -1 -1\n",
      "-1 -1 -1 -1 -1 -1\n",
      "-1 -1 -1 -1 -1 -1\n",
      "-1 -1 -1 -1 -1 -1\n",
      "-1 -1 -1 -1 -1 -1\n",
      "-1 -1 -1 -1 -1 -1\n",
      "-1 -1 -1 -1 -1 -1\n",
      "-1 -1 -1 -1 -1 -1\n",
      "-1 -1 -1 -1 -1 -1\n",
      "-1 -1 -1 -1 -1 -1\n",
      "-1 -1 -1 -1 -1 -1\n",
      "-1 -1 -1 -1 -1 -1\n",
      "-1 -1 -1 -1 -1 -1\n",
      "-1 -1 -1 -1 -1 -1\n",
      "-1 -1 -1 -1 -1 -1\n",
      "-1 -1 -1 -1 -1 -1\n",
      "-1 -1 -1 -1 -1 -1\n",
      "-1 -1 -1 -1 -1 -1\n",
      "-1 -1 -1 -1 -1 -1\n",
      "-1 -1 -1 -1 -1 -1\n",
      "-1 -1 -1 -1 -1 -1\n",
      "-1 -1 -1 -1 -1 -1\n",
      "-1 -1 -1 -1 -1 -1\n",
      "-1 -1 -1 -1 -1 -1\n",
      "-1 -1 -1 -1 -1 -1\n",
      "-1 -1 -1 -1 -1 -1\n",
      "-1 -1 -1 -1 -1 -1\n",
      "-1 -1 -1 -1 -1 -1\n",
      "-1 -1 -1 -1 -1 -1\n",
      "-1 -1 -1 -1 -1 -1\n",
      "-1 -1 -1 -1 -1 -1\n",
      "-1 -1 -1 -1 -1 -1\n",
      "-1 -1 -1 -1 -1 -1\n",
      "-1 -1 -1 -1 -1 -1\n",
      "-1 -1 -1 -1 -1 -1\n",
      "-1 -1 -1 -1 -1 -1\n",
      "-1 -1 -1 -1 -1 -1\n",
      "-1 -1 -1 -1 -1 -1\n",
      "-1 -1 -1 -1 -1 -1\n",
      "-1 -1 -1 -1 -1 -1\n",
      "-1 -1 -1 -1 -1 -1\n",
      "-1 -1 -1 -1 -1 -1\n",
      "-1 -1 -1 -1 -1 -1\n",
      "-1 -1 -1 -1 -1 -1\n",
      "-1 -1 -1 -1 -1 -1\n",
      "-1 -1 -1 -1 -1 -1\n",
      "-1 -1 -1 -1 -1 -1\n",
      "-1 -1 -1 -1 -1 -1\n",
      "-1 -1 -1 -1 -1 -1\n",
      "-1 -1 -1 -1 -1 -1\n",
      "-1 -1 -1 -1 -1 -1\n",
      "-1 -1 -1 -1 -1 -1\n",
      "-1 -1 -1 -1 -1 -1\n",
      "-1 -1 -1 -1 -1 -1\n",
      "-1 -1 -1 -1 -1 -1\n",
      "-1 -1 -1 -1 -1 -1\n",
      "-1 -1 -1 -1 -1 -1\n",
      "-1 -1 -1 -1 -1 -1\n",
      "-1 -1 -1 -1 -1 -1\n",
      "-1 -1 -1 -1 -1 -1\n",
      "-1 -1 -1 -1 -1 -1\n",
      "-1 -1 -1 -1 -1 -1\n",
      "-1 -1 -1 -1 -1 -1\n",
      "-1 -1 -1 -1 -1 -1\n",
      "-1 -1 -1 -1 -1 -1\n",
      "-1 -1 -1 -1 -1 -1\n",
      "-1 -1 -1 -1 -1 -1\n",
      "-1 -1 -1 -1 -1 -1\n",
      "-1 -1 -1 -1 -1 -1\n",
      "-1 -1 -1 -1 -1 -1\n",
      "-1 -1 -1 -1 -1 -1\n",
      "-1 -1 -1 -1 -1 -1\n",
      "-1 -1 -1 -1 -1 -1\n",
      "-1 -1 -1 -1 -1 -1\n",
      "-1 -1 -1 -1 -1 -1\n",
      "-1 -1 -1 -1 -1 -1\n",
      "-1 -1 -1 -1 -1 -1\n",
      "-1 -1 -1 -1 -1 -1\n",
      "-1 -1 -1 -1 -1 -1\n",
      "-1 -1 -1 -1 -1 -1\n",
      "-1 -1 -1 -1 -1 -1\n",
      "-1 -1 -1 -1 -1 -1\n",
      "-1 -1 -1 -1 -1 -1\n",
      "-1 -1 -1 -1 -1 -1\n",
      "-1 -1 -1 -1 -1 -1\n",
      "-1 -1 -1 -1 -1 -1\n",
      "-1 -1 -1 -1 -1 -1\n",
      "-1 -1 -1 -1 -1 -1\n"
     ]
    }
   ],
   "source": [
    "def empty():\n",
    "    pass\n",
    "#createTrackbar\n",
    "cv2.namedWindow(\"TrackBars\")\n",
    "cv2.resizeWindow(\"TrackBars\",640,240)\n",
    "cv2.createTrackbar(\"Hue Min\",\"TrackBars\",0,179,empty)\n",
    "cv2.createTrackbar(\"Hue Max\",\"TrackBars\",19,179,empty)\n",
    "cv2.createTrackbar(\"Sat Min\",\"TrackBars\",110,255,empty)\n",
    "cv2.createTrackbar(\"Sat Max\",\"TrackBars\",240,255,empty)\n",
    "cv2.createTrackbar(\"Val Min\",\"TrackBars\",153,255,empty)\n",
    "cv2.createTrackbar(\"Val Max\",\"TrackBars\",255,255,empty)\n",
    "\n",
    "while True:\n",
    "    success, frame = cap.read()\n",
    "    frameHSV = cv2.cvtColor(frame,cv2.COLOR_BGR2HSV)   \n",
    "    h_min = cv2.getTrackbarPos(\"Hue Min\",\"TrackBars\")\n",
    "    s_min = cv2.getTrackbarPos(\"Sat Min\", \"TrackBars\")\n",
    "    v_min = cv2.getTrackbarPos(\"Val Min\", \"TrackBars\")\n",
    "    h_max = cv2.getTrackbarPos(\"Hue Max\", \"TrackBars\")    \n",
    "    s_max = cv2.getTrackbarPos(\"Sat Max\", \"TrackBars\")  \n",
    "    v_max = cv2.getTrackbarPos(\"Val Max\", \"TrackBars\")\n",
    "    print(h_min,h_max,s_min,s_max,v_min,v_max)\n",
    "    lower = np.array([h_min,s_min,v_min])\n",
    "    upper = np.array([h_max,s_max,v_max])\n",
    "    mask = cv2.inRange(frameHSV,lower,upper)\n",
    "    imgResult = cv2.bitwise_and(frame,frame,mask=mask)\n",
    "    cv2.imshow('imgResult',imgResult)\n",
    "    if cv2.waitKey(1) and 0xFF == ord('q'):\n",
    "        break\n",
    " # keep tunning        "
   ]
  }
 ],
 "metadata": {
  "kernelspec": {
   "display_name": "Python 3",
   "language": "python",
   "name": "python3"
  },
  "language_info": {
   "codemirror_mode": {
    "name": "ipython",
    "version": 3
   },
   "file_extension": ".py",
   "mimetype": "text/x-python",
   "name": "python",
   "nbconvert_exporter": "python",
   "pygments_lexer": "ipython3",
   "version": "3.7.6"
  }
 },
 "nbformat": 4,
 "nbformat_minor": 4
}
